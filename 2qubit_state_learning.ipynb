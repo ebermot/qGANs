{
 "cells": [
  {
   "cell_type": "code",
   "execution_count": null,
   "metadata": {},
   "outputs": [],
   "source": [
    "# This cell is added by sphinx-gallery\n",
    "# It can be customized to whatever you like\n",
    "%matplotlib inline"
   ]
  },
  {
   "cell_type": "code",
   "execution_count": 77,
   "metadata": {},
   "outputs": [],
   "source": [
    "import pennylane as qml\n",
    "import numpy as np\n",
    "import tensorflow as tf\n",
    "import qutip as qt\n",
    "from matplotlib import pyplot as plt"
   ]
  },
  {
   "cell_type": "markdown",
   "metadata": {},
   "source": [
    "We also declare a 3-qubit simulator device running in Cirq.\n"
   ]
  },
  {
   "cell_type": "code",
   "execution_count": 4,
   "metadata": {},
   "outputs": [],
   "source": [
    "dev = qml.device('cirq.simulator', wires=3)"
   ]
  },
  {
   "cell_type": "markdown",
   "metadata": {},
   "source": [
    "Generator and Discriminator\n",
    "===========================\n",
    "\n",
    "\n"
   ]
  },
  {
   "cell_type": "code",
   "execution_count": 22,
   "metadata": {},
   "outputs": [],
   "source": [
    "def U1(w,wire):\n",
    "    qml.RZ(w[0],wires = wire)\n",
    "    qml.RX(w[1],wires = wire)\n",
    "    qml.RZ(w[2],wires = wire)\n",
    "\n",
    "def U2(w,wire1,wire2):\n",
    "    U1(w[0:3], wire1)\n",
    "    U1(w[3:6], wire2)\n",
    "    qml.CNOT(wires = [wire2,wire1])\n",
    "    qml.RZ(w[6],wires = wire1)\n",
    "    qml.RY(w[7],wires = wire2)\n",
    "    qml.CNOT(wires = [wire1,wire2])\n",
    "    qml.RY(w[8],wires = wire2)\n",
    "    qml.CNOT(wires = [wire2,wire1])\n",
    "    U1(w[9:12], wire1)\n",
    "    U1(w[12:15],wire2)"
   ]
  },
  {
   "cell_type": "code",
   "execution_count": 7,
   "metadata": {},
   "outputs": [],
   "source": [
    "def real(w):\n",
    "    U2(w,0,1)\n",
    "    \n",
    "\n",
    "def generator(w, **kwargs):\n",
    "    U2(w[0:15],0,1)\n",
    "    U2(w[15:30],0,1) #Erase this, be careful with overparametrization\n",
    "    \n",
    "def discriminator(w, **kwargs):\n",
    "    U2(w[0:15],0,1)\n",
    "    U2(w[15:30],1,2)\n",
    "    U2(w[30:45],0,1)\n",
    "    U2(w[45:60],1,2)"
   ]
  },
  {
   "cell_type": "markdown",
   "metadata": {},
   "source": [
    "# Nodes"
   ]
  },
  {
   "cell_type": "code",
   "execution_count": 8,
   "metadata": {},
   "outputs": [],
   "source": [
    "@qml.qnode(dev, interface=\"tf\")\n",
    "def real_disc_circuit(real_params, disc_weights):\n",
    "    real(real_params)\n",
    "    discriminator(disc_weights)\n",
    "    return qml.expval(qml.PauliZ(2))\n",
    "\n",
    "\n",
    "@qml.qnode(dev, interface=\"tf\")\n",
    "def gen_disc_circuit(gen_weights, disc_weights):\n",
    "    generator(gen_weights)\n",
    "    discriminator(disc_weights)\n",
    "    return qml.expval(qml.PauliZ(2))"
   ]
  },
  {
   "cell_type": "markdown",
   "metadata": {},
   "source": [
    "QGAN cost functions\n",
    "===================\n",
    "\n",
    "\n"
   ]
  },
  {
   "cell_type": "code",
   "execution_count": 18,
   "metadata": {},
   "outputs": [],
   "source": [
    "def prob_real_true(disc_weights):\n",
    "    true_disc_output = real_disc_circuit(real_params, disc_weights)\n",
    "    # convert to probability\n",
    "    prob_real_true = (true_disc_output + 1) / 2\n",
    "    return prob_real_true\n",
    "\n",
    "\n",
    "def prob_fake_true(gen_weights, disc_weights):\n",
    "    fake_disc_output = gen_disc_circuit(gen_weights, disc_weights)\n",
    "    # convert to probability\n",
    "    prob_fake_true = (fake_disc_output + 1) / 2\n",
    "    return prob_fake_true\n",
    "\n",
    "\n",
    "def disc_cost(disc_weights):\n",
    "    cost = prob_fake_true(gen_weights, disc_weights) - prob_real_true(disc_weights)\n",
    "    return cost\n",
    "\n",
    "\n",
    "def gen_cost(gen_weights):\n",
    "    cost = -prob_fake_true(gen_weights, disc_weights)\n",
    "    return cost"
   ]
  },
  {
   "cell_type": "markdown",
   "metadata": {},
   "source": [
    "Initializing the weights\n",
    "=================\n"
   ]
  },
  {
   "cell_type": "markdown",
   "metadata": {},
   "source": [
    "Real state generation"
   ]
  },
  {
   "cell_type": "code",
   "execution_count": 60,
   "metadata": {},
   "outputs": [],
   "source": [
    "real_params = np.random.uniform(low=-np.pi, high=np.pi, size=15)"
   ]
  },
  {
   "cell_type": "markdown",
   "metadata": {},
   "source": [
    "Generator and Discriminator parameter initialization"
   ]
  },
  {
   "cell_type": "code",
   "execution_count": 61,
   "metadata": {},
   "outputs": [],
   "source": [
    "init_gen_weights = np.random.uniform(low=-np.pi, high=np.pi, size=30)\n",
    "\n",
    "init_disc_weights = np.random.uniform(low=-np.pi, high=np.pi, size=60)\n",
    "\n",
    "gen_weights = tf.Variable(init_gen_weights)\n",
    "disc_weights = tf.Variable(init_disc_weights)"
   ]
  },
  {
   "cell_type": "markdown",
   "metadata": {},
   "source": [
    "We begin by creating the optimizer:\n"
   ]
  },
  {
   "cell_type": "code",
   "execution_count": 17,
   "metadata": {},
   "outputs": [],
   "source": [
    "opt = tf.keras.optimizers.Adam(learning_rate = 0.05) #in another simulation they use 0.1 #AMSgrad = True"
   ]
  },
  {
   "cell_type": "markdown",
   "metadata": {},
   "source": [
    "We train in turns. We expect around 250 turns to converge. Each turn consists of 5 discriminator steps and 1 generator step."
   ]
  },
  {
   "cell_type": "markdown",
   "metadata": {},
   "source": [
    "# Define some other metrics"
   ]
  },
  {
   "cell_type": "code",
   "execution_count": 30,
   "metadata": {},
   "outputs": [],
   "source": [
    "dev_state = qml.device('default.qubit', wires=2)"
   ]
  },
  {
   "cell_type": "code",
   "execution_count": 33,
   "metadata": {},
   "outputs": [],
   "source": [
    "@qml.qnode(dev_state, interface=\"tf\")\n",
    "def real_circuit(w):\n",
    "    U1(w[0:3], 0)\n",
    "    U1(w[3:6], 1)\n",
    "    qml.CNOT(wires = [1,0])\n",
    "    qml.RZ(w[6],wires = 0)\n",
    "    qml.RY(w[7],wires = 1)\n",
    "    qml.CNOT(wires = [0,1])\n",
    "    qml.RY(w[8],wires = 1)\n",
    "    qml.CNOT(wires = [1,0])\n",
    "    U1(w[9:12], 0)\n",
    "    U1(w[12:15],1)\n",
    "    return qml.state()\n",
    "\n",
    "\n",
    "@qml.qnode(dev_state, interface=\"tf\")\n",
    "def gen_circuit(gen_weights):\n",
    "    generator(gen_weights)\n",
    "    return qml.state()"
   ]
  },
  {
   "cell_type": "code",
   "execution_count": 44,
   "metadata": {},
   "outputs": [],
   "source": [
    "def fidelity(real_params,gen_weights):\n",
    "    real_state = qt.Qobj(real_circuit(real_params).numpy())\n",
    "    gen_state = qt.Qobj(gen_circuit(gen_weights).numpy())\n",
    "    \n",
    "    ρ_R = real_state * real_state.dag()\n",
    "    ρ_G = gen_state * gen_state.dag()\n",
    "    \n",
    "    F = qt.fidelity(ρ_R,ρ_G)\n",
    "    return F"
   ]
  },
  {
   "cell_type": "code",
   "execution_count": 48,
   "metadata": {},
   "outputs": [],
   "source": [
    "def trace_distance(real_params,gen_weights):\n",
    "    real_state = qt.Qobj(real_circuit(real_params).numpy())\n",
    "    gen_state = qt.Qobj(gen_circuit(gen_weights).numpy())\n",
    "    \n",
    "    ρ_R = real_state * real_state.dag()\n",
    "    ρ_G = gen_state * gen_state.dag()\n",
    "    \n",
    "    d = qt.tracedist(ρ_R,ρ_G)\n",
    "    return d"
   ]
  },
  {
   "cell_type": "markdown",
   "metadata": {},
   "source": [
    "------------------------------------------------------------------------------"
   ]
  },
  {
   "cell_type": "markdown",
   "metadata": {},
   "source": [
    "# Training routine"
   ]
  },
  {
   "cell_type": "code",
   "execution_count": 64,
   "metadata": {},
   "outputs": [
    {
     "name": "stdout",
     "output_type": "stream",
     "text": [
      "P(R|R)-P(R|G):  0.15458284318447113\n",
      "P(R|G):  0.5585718750953674\n",
      "Fidelity:  0.9472625335531828\n",
      "Trace distance:  0.32045857938513217\n",
      "------------------------------\n",
      "P(R|R)-P(R|G):  0.0952494740486145\n",
      "P(R|G):  0.37602733075618744\n",
      "Fidelity:  0.7916055178495006\n",
      "Trace distance:  0.6110324980523325\n",
      "------------------------------\n",
      "P(R|R)-P(R|G):  0.4144642800092697\n",
      "P(R|G):  0.3132867068052292\n",
      "Fidelity:  0.7011446580514539\n",
      "Trace distance:  0.7130190580481793\n",
      "------------------------------\n",
      "P(R|R)-P(R|G):  0.5760569795966148\n",
      "P(R|G):  0.2743462175130844\n",
      "Fidelity:  0.6964966378258927\n",
      "Trace distance:  0.7175600668818546\n",
      "------------------------------\n",
      "P(R|R)-P(R|G):  0.6777355968952179\n",
      "P(R|G):  0.2950580418109894\n",
      "Fidelity:  0.7518943967108269\n",
      "Trace distance:  0.6592835726095451\n",
      "------------------------------\n",
      "P(R|R)-P(R|G):  0.6180434823036194\n",
      "P(R|G):  0.3951454907655716\n",
      "Fidelity:  0.8307933397053765\n",
      "Trace distance:  0.5565810363843907\n",
      "------------------------------\n",
      "P(R|R)-P(R|G):  0.5193582773208618\n",
      "P(R|G):  0.2844413071870804\n",
      "Fidelity:  0.8932943516683624\n",
      "Trace distance:  0.44947215541278673\n",
      "------------------------------\n",
      "P(R|R)-P(R|G):  0.42752012610435486\n",
      "P(R|G):  0.4196935296058655\n",
      "Fidelity:  0.9485842982795537\n",
      "Trace distance:  0.3165246500078335\n",
      "------------------------------\n",
      "P(R|R)-P(R|G):  0.2956761568784714\n",
      "P(R|G):  0.5311171412467957\n",
      "Fidelity:  0.9886349416896498\n",
      "Trace distance:  0.15033623340682634\n",
      "------------------------------\n",
      "P(R|R)-P(R|G):  0.1434944123029709\n",
      "P(R|G):  0.6175751686096191\n",
      "Fidelity:  0.9853868121243069\n",
      "Trace distance:  0.17033157970718388\n",
      "------------------------------\n",
      "P(R|R)-P(R|G):  0.14316537976264954\n",
      "P(R|G):  0.41307228803634644\n",
      "Fidelity:  0.9617305925701396\n",
      "Trace distance:  0.273996877896247\n",
      "------------------------------\n",
      "P(R|R)-P(R|G):  0.2069494128227234\n",
      "P(R|G):  0.27770622074604034\n",
      "Fidelity:  0.9376670056583468\n",
      "Trace distance:  0.3475350418058025\n",
      "------------------------------\n",
      "P(R|R)-P(R|G):  0.26702429354190826\n",
      "P(R|G):  0.4561343789100647\n",
      "Fidelity:  0.9377825517033936\n",
      "Trace distance:  0.3472231099099883\n",
      "------------------------------\n",
      "P(R|R)-P(R|G):  0.2916167080402374\n",
      "P(R|G):  0.4501408338546753\n",
      "Fidelity:  0.9537775472381274\n",
      "Trace distance:  0.30051355189170037\n",
      "------------------------------\n",
      "P(R|R)-P(R|G):  0.2871936708688736\n",
      "P(R|G):  0.47843314707279205\n",
      "Fidelity:  0.9746679591045175\n",
      "Trace distance:  0.2236568634566125\n",
      "------------------------------\n",
      "P(R|R)-P(R|G):  0.2030627578496933\n",
      "P(R|G):  0.501875251531601\n",
      "Fidelity:  0.9861038595059191\n",
      "Trace distance:  0.16613005753235371\n",
      "------------------------------\n",
      "P(R|R)-P(R|G):  0.14722388982772827\n",
      "P(R|G):  0.5367995947599411\n",
      "Fidelity:  0.9859078381926762\n",
      "Trace distance:  0.16728942234934252\n",
      "------------------------------\n",
      "P(R|R)-P(R|G):  0.1394282728433609\n",
      "P(R|G):  0.5754892528057098\n",
      "Fidelity:  0.9785988457227177\n",
      "Trace distance:  0.2057773635555471\n",
      "------------------------------\n",
      "P(R|R)-P(R|G):  0.18719567358493805\n",
      "P(R|G):  0.5409376621246338\n",
      "Fidelity:  0.9662266156175455\n",
      "Trace distance:  0.2576956091921422\n",
      "------------------------------\n",
      "P(R|R)-P(R|G):  0.21541836857795715\n",
      "P(R|G):  0.5671296417713165\n",
      "Fidelity:  0.9574800148892857\n",
      "Trace distance:  0.2884996185781849\n",
      "------------------------------\n",
      "P(R|R)-P(R|G):  0.24144607782363892\n",
      "P(R|G):  0.34122157096862793\n",
      "Fidelity:  0.9510203277515265\n",
      "Trace distance:  0.30912837772167356\n",
      "------------------------------\n",
      "P(R|R)-P(R|G):  0.29518313705921173\n",
      "P(R|G):  0.3876505494117737\n",
      "Fidelity:  0.9546530140066659\n",
      "Trace distance:  0.2977207486061698\n",
      "------------------------------\n",
      "P(R|R)-P(R|G):  0.282899409532547\n",
      "P(R|G):  0.4164000004529953\n",
      "Fidelity:  0.9729178816272526\n",
      "Trace distance:  0.23115107608532356\n",
      "------------------------------\n",
      "P(R|R)-P(R|G):  0.2196987122297287\n",
      "P(R|G):  0.4666091501712799\n",
      "Fidelity:  0.9921871934445793\n",
      "Trace distance:  0.12475814970527555\n",
      "------------------------------\n",
      "P(R|R)-P(R|G):  0.11406034231185913\n",
      "P(R|G):  0.5781553834676743\n",
      "Fidelity:  0.9921911701410844\n",
      "Trace distance:  0.12472656071583696\n",
      "------------------------------\n",
      "P(R|R)-P(R|G):  0.06342287361621857\n",
      "P(R|G):  0.5627013146877289\n",
      "Fidelity:  0.965108438360432\n",
      "Trace distance:  0.2618505866594476\n",
      "------------------------------\n",
      "P(R|R)-P(R|G):  0.08801893889904022\n",
      "P(R|G):  0.320629745721817\n",
      "Fidelity:  0.9283876806454265\n",
      "Trace distance:  0.3716131627902595\n",
      "------------------------------\n",
      "P(R|R)-P(R|G):  0.19921479374170303\n",
      "P(R|G):  0.5965828895568848\n",
      "Fidelity:  0.9096997361791817\n",
      "Trace distance:  0.4152666757425957\n",
      "------------------------------\n",
      "P(R|R)-P(R|G):  0.2915695607662201\n",
      "P(R|G):  0.2639939934015274\n",
      "Fidelity:  0.9153582432529824\n",
      "Trace distance:  0.40264043125909044\n",
      "------------------------------\n",
      "P(R|R)-P(R|G):  0.31884321570396423\n",
      "P(R|G):  0.4679681658744812\n",
      "Fidelity:  0.9388470206311728\n",
      "Trace distance:  0.3443345497799667\n",
      "------------------------------\n",
      "P(R|R)-P(R|G):  0.3031671643257141\n",
      "P(R|G):  0.43953022360801697\n",
      "Fidelity:  0.9714541588368083\n",
      "Trace distance:  0.23722736679200807\n",
      "------------------------------\n",
      "P(R|R)-P(R|G):  0.23027311265468597\n",
      "P(R|G):  0.5897073894739151\n",
      "Fidelity:  0.9908400055213972\n",
      "Trace distance:  0.13504113248418687\n",
      "------------------------------\n",
      "P(R|R)-P(R|G):  0.08948005735874176\n",
      "P(R|G):  0.6749846339225769\n",
      "Fidelity:  0.9809298334567094\n",
      "Trace distance:  0.19436222944510584\n",
      "------------------------------\n",
      "P(R|R)-P(R|G):  0.16234247386455536\n",
      "P(R|G):  0.4620054364204407\n",
      "Fidelity:  0.96250624813282\n",
      "Trace distance:  0.2712595261968489\n",
      "------------------------------\n",
      "P(R|R)-P(R|G):  0.17701515555381775\n",
      "P(R|G):  0.30423852801322937\n",
      "Fidelity:  0.941685433508171\n",
      "Trace distance:  0.33649450214556775\n",
      "------------------------------\n",
      "P(R|R)-P(R|G):  0.2855854630470276\n",
      "P(R|G):  0.35540370643138885\n",
      "Fidelity:  0.936925497239292\n",
      "Trace distance:  0.34952915323441963\n",
      "------------------------------\n",
      "P(R|R)-P(R|G):  0.3191463053226471\n",
      "P(R|G):  0.4143380671739578\n",
      "Fidelity:  0.946653642799439\n",
      "Trace distance:  0.3222528346150404\n",
      "------------------------------\n",
      "P(R|R)-P(R|G):  0.3055534213781357\n",
      "P(R|G):  0.2806200385093689\n",
      "Fidelity:  0.9620262035771732\n",
      "Trace distance:  0.27295711175666826\n",
      "------------------------------\n",
      "P(R|R)-P(R|G):  0.2600235342979431\n",
      "P(R|G):  0.45887959003448486\n",
      "Fidelity:  0.977929223957863\n",
      "Trace distance:  0.20893643361438996\n",
      "------------------------------\n",
      "P(R|R)-P(R|G):  0.19371330738067627\n",
      "P(R|G):  0.4004514813423157\n",
      "Fidelity:  0.9870892618042455\n",
      "Trace distance:  0.16017121967020534\n",
      "------------------------------\n",
      "P(R|R)-P(R|G):  0.14989319443702698\n",
      "P(R|G):  0.48000307381153107\n",
      "Fidelity:  0.9905537412968559\n",
      "Trace distance:  0.13712511392248028\n",
      "------------------------------\n",
      "P(R|R)-P(R|G):  0.12656237185001373\n",
      "P(R|G):  0.5297101736068726\n",
      "Fidelity:  0.9883483517877608\n",
      "Trace distance:  0.15220891973604164\n",
      "------------------------------\n",
      "P(R|R)-P(R|G):  0.12994441390037537\n",
      "P(R|G):  0.4348660707473755\n",
      "Fidelity:  0.9760784959837909\n",
      "Trace distance:  0.21741843679285172\n",
      "------------------------------\n",
      "P(R|R)-P(R|G):  0.17972977459430695\n",
      "P(R|G):  0.17716097831726074\n",
      "Fidelity:  0.9596011472061791\n",
      "Trace distance:  0.2813638956863559\n",
      "------------------------------\n",
      "P(R|R)-P(R|G):  0.2532835528254509\n",
      "P(R|G):  0.5355292558670044\n",
      "Fidelity:  0.960011369738516\n",
      "Trace distance:  0.27996106647439745\n",
      "------------------------------\n",
      "P(R|R)-P(R|G):  0.2556316554546356\n",
      "P(R|G):  0.39513692259788513\n",
      "Fidelity:  0.9750634959875726\n",
      "Trace distance:  0.2219261335635213\n",
      "------------------------------\n",
      "P(R|R)-P(R|G):  0.21395383775234222\n",
      "P(R|G):  0.48363499343395233\n",
      "Fidelity:  0.9921194164554359\n",
      "Trace distance:  0.12529590446280897\n",
      "------------------------------\n",
      "P(R|R)-P(R|G):  0.12040223181247711\n",
      "P(R|G):  0.6272325366735458\n",
      "Fidelity:  0.9955576026947217\n",
      "Trace distance:  0.09415458711441385\n",
      "------------------------------\n",
      "P(R|R)-P(R|G):  0.07517141103744507\n",
      "P(R|G):  0.5253587812185287\n",
      "Fidelity:  0.9872993354374452\n",
      "Trace distance:  0.15887116342483315\n",
      "------------------------------\n",
      "P(R|R)-P(R|G):  0.13140682876110077\n",
      "P(R|G):  0.4254753887653351\n",
      "Fidelity:  0.9763003242927965\n",
      "Trace distance:  0.2164202196332629\n",
      "------------------------------\n"
     ]
    }
   ],
   "source": [
    "#----- Metrics ----------------------------\n",
    "\n",
    "Disc_cost = [] # P(R|R)-P(R|G)\n",
    "Gen_cost = [] # P(R|G)\n",
    "Trace_d = [] #Trace distance\n",
    "F = [] #Fidelity\n",
    "\n",
    "#-------------------------------------------\n",
    "\n",
    "costD = lambda: disc_cost(disc_weights)\n",
    "costG = lambda: gen_cost(gen_weights)\n",
    "\n",
    "for turn in range(50):\n",
    "    for step in range(5): #The actual ratio should be 20 to 1, according to what we discussed\n",
    "        opt.minimize(costD, disc_weights)\n",
    "        if step == 4:\n",
    "            costD_val = costD().numpy()\n",
    "            #print(\"Step {}: cost = {}\".format(step, costD_val))\n",
    "            Disc_cost += [-costD_val] # P(R|R)-P(R|G)\n",
    "        \n",
    "    opt.minimize(costG, gen_weights)\n",
    "    costG_val = costG().numpy()\n",
    "    #print(\"Step {}: cost = {}\".format(step, costG_val))\n",
    "    Gen_cost += [-costG_val] # P(R|G)\n",
    "    \n",
    "    fid = fidelity(real_params,gen_weights)\n",
    "    F += [fid] #Fidelity\n",
    "    \n",
    "    TrD = trace_distance(real_params,gen_weights)\n",
    "    Trace_d += [TrD] #Trace distance\n",
    "    \n",
    "    print(\"P(R|R)-P(R|G): \", -costD_val)\n",
    "    print(\"P(R|G): \", -costG_val)\n",
    "    print(\"Fidelity: \",fid)\n",
    "    print(\"Trace distance: \",TrD)\n",
    "    print(\"------------------------------\")\n",
    "    "
   ]
  },
  {
   "cell_type": "code",
   "execution_count": 70,
   "metadata": {},
   "outputs": [],
   "source": [
    "F = np.array(F)\n",
    "Gen_cost = np.array(Gen_cost)\n",
    "Disc_cost = np.array(Disc_cost)\n",
    "Trace_d = np.array(Trace_d)"
   ]
  },
  {
   "cell_type": "code",
   "execution_count": null,
   "metadata": {},
   "outputs": [],
   "source": []
  },
  {
   "cell_type": "code",
   "execution_count": 90,
   "metadata": {},
   "outputs": [
    {
     "data": {
      "image/png": "[encoded data removed]",
      "text/plain": [
       "<Figure size 432x288 with 1 Axes>"
      ]
     },
     "metadata": {
      "needs_background": "light"
     },
     "output_type": "display_data"
    }
   ],
   "source": [
    "plt.plot(F, label='Fidelity')\n",
    "plt.plot(Gen_cost, label='P(R|G)')\n",
    "plt.plot(Disc_cost, label='P(R|R)-P(R|G)')\n",
    "plt.plot(Trace_d, label='Trace distance')\n",
    "plt.ylim([0,1.1])\n",
    "plt.xlabel('Turns (5D+1G)') \n",
    "plt.title(\"2-qubit $|\\psi>$ metrics\")\n",
    "plt.legend()\n",
    "plt.savefig('2qubitlearning.png', format='png')"
   ]
  },
  {
   "cell_type": "code",
   "execution_count": 26,
   "metadata": {},
   "outputs": [
    {
     "name": "stdout",
     "output_type": "stream",
     "text": [
      "Real Bloch vector: [0.99999988 0.         0.        ]\n",
      "Generator Bloch vector: [ 0.44972545 -0.88693075  0.10536051]\n"
     ]
    }
   ],
   "source": [
    "obs = [qml.PauliX(0), qml.PauliY(0), qml.PauliZ(0)]\n",
    "\n",
    "bloch_vector_real = qml.map(real, obs, dev, interface=\"tf\")\n",
    "bloch_vector_generator = qml.map(generator, obs, dev, interface=\"tf\")\n",
    "\n",
    "print(\"Real Bloch vector: {}\".format(bloch_vector_real([phi, theta, omega])))\n",
    "print(\"Generator Bloch vector: {}\".format(bloch_vector_generator(gen_weights)))"
   ]
  },
  {
   "cell_type": "code",
   "execution_count": null,
   "metadata": {},
   "outputs": [],
   "source": []
  }
 ],
 "metadata": {
  "kernelspec": {
   "display_name": "Python 3",
   "language": "python",
   "name": "python3"
  },
  "language_info": {
   "codemirror_mode": {
    "name": "ipython",
    "version": 3
   },
   "file_extension": ".py",
   "mimetype": "text/x-python",
   "name": "python",
   "nbconvert_exporter": "python",
   "pygments_lexer": "ipython3",
   "version": "3.8.3"
  }
 },
 "nbformat": 4,
 "nbformat_minor": 1
}
