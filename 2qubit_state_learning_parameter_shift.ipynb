{
 "cells": [
  {
   "cell_type": "code",
   "execution_count": 2,
   "metadata": {},
   "outputs": [],
   "source": [
    "# This cell is added by sphinx-gallery\n",
    "# It can be customized to whatever you like\n",
    "%matplotlib inline\n",
    "import os\n",
    "os.environ['KMP_DUPLICATE_LIB_OK']='True' #to avoid killing kernel !! \n",
    "\n",
    "#work tomorrow on 3 qubit case and 1 qubit case"
   ]
  },
  {
   "cell_type": "code",
   "execution_count": 1,
   "metadata": {},
   "outputs": [],
   "source": [
    "import pennylane as qml\n",
    "#import numpy as np\n",
    "from pennylane import numpy as np\n",
    "#import tensorflow as tf\n",
    "import qutip as qt\n",
    "from matplotlib import pyplot as plt"
   ]
  },
  {
   "cell_type": "markdown",
   "metadata": {},
   "source": [
    "We also declare a 3-qubit simulator device running in Cirq.\n"
   ]
  },
  {
   "cell_type": "code",
   "execution_count": 26,
   "metadata": {},
   "outputs": [],
   "source": [
    "dev = qml.device('default.qubit', wires=3)"
   ]
  },
  {
   "cell_type": "markdown",
   "metadata": {},
   "source": [
    "Generator and Discriminator\n",
    "===========================\n",
    "\n",
    "\n"
   ]
  },
  {
   "cell_type": "code",
   "execution_count": 27,
   "metadata": {},
   "outputs": [],
   "source": [
    "def U1(w,wire):\n",
    "    qml.RZ(w[0],wires = wire)\n",
    "    qml.RX(w[1],wires = wire)\n",
    "    qml.RZ(w[2],wires = wire)\n",
    "\n",
    "def U2(w,wire1,wire2):\n",
    "    U1(w[0:3], wire1)\n",
    "    U1(w[3:6], wire2)\n",
    "    qml.CNOT(wires = [wire2,wire1])\n",
    "    qml.RZ(w[6],wires = wire1)\n",
    "    qml.RY(w[7],wires = wire2)\n",
    "    qml.CNOT(wires = [wire1,wire2])\n",
    "    qml.RY(w[8],wires = wire2)\n",
    "    qml.CNOT(wires = [wire2,wire1])\n",
    "    U1(w[9:12], wire1)\n",
    "    U1(w[12:15],wire2)"
   ]
  },
  {
   "cell_type": "code",
   "execution_count": 28,
   "metadata": {},
   "outputs": [],
   "source": [
    "def real(w):\n",
    "    U2(w,0,1)\n",
    "    \n",
    "\n",
    "def generator(w, **kwargs):\n",
    "    U2(w[0:15],0,1)\n",
    "    #U2(w[15:30],0,1) #Erase this, be careful with overparametrization\n",
    "    \n",
    "def discriminator(w, **kwargs):\n",
    "    U2(w[0:15],0,1)\n",
    "    U2(w[15:30],1,2)\n",
    "    U2(w[30:45],0,1)\n",
    "    U2(w[45:60],1,2)"
   ]
  },
  {
   "cell_type": "markdown",
   "metadata": {},
   "source": [
    "# Nodes"
   ]
  },
  {
   "cell_type": "code",
   "execution_count": 29,
   "metadata": {},
   "outputs": [],
   "source": [
    "@qml.qnode(dev, diff_method=\"parameter-shift\")\n",
    "def real_disc_circuit(real_params, disc_weights):\n",
    "    real(real_params)\n",
    "    discriminator(disc_weights)\n",
    "    return qml.expval(qml.PauliZ(2))\n",
    "\n",
    "@qml.gradients.param_shift\n",
    "@qml.qnode(dev)\n",
    "def real_disc_circuit_gradient(disc_weights):\n",
    "    real(real_params)\n",
    "    discriminator(disc_weights)\n",
    "    return qml.expval(qml.PauliZ(2))\n",
    "\n",
    "\n",
    "@qml.qnode(dev, diff_method=\"parameter-shift\")\n",
    "def gen_disc_circuit(gen_weights, disc_weights):\n",
    "    generator(gen_weights)\n",
    "    discriminator(disc_weights)\n",
    "    return qml.expval(qml.PauliZ(2))\n",
    "\n",
    "@qml.gradients.param_shift\n",
    "@qml.qnode(dev)\n",
    "def gen_disc_circuit_gradient_disc(disc_weights):\n",
    "    generator(gen_weights)\n",
    "    discriminator(disc_weights)\n",
    "    return qml.expval(qml.PauliZ(2))\n",
    "\n",
    "@qml.gradients.param_shift\n",
    "@qml.qnode(dev)\n",
    "def gen_disc_circuit_gradient_gen(gen_weights):\n",
    "    generator(gen_weights)\n",
    "    discriminator(disc_weights)\n",
    "    return qml.expval(qml.PauliZ(2))"
   ]
  },
  {
   "cell_type": "markdown",
   "metadata": {},
   "source": [
    "QGAN cost functions\n",
    "===================\n",
    "\n",
    "\n"
   ]
  },
  {
   "cell_type": "code",
   "execution_count": 30,
   "metadata": {},
   "outputs": [],
   "source": [
    "def prob_real_true(disc_weights):\n",
    "    true_disc_output = real_disc_circuit(real_params, disc_weights)\n",
    "    # convert to probability\n",
    "    prob_real_true = (true_disc_output + 1) / 2\n",
    "    return prob_real_true\n",
    "\n",
    "\n",
    "def prob_fake_true(gen_weights, disc_weights):\n",
    "    fake_disc_output = gen_disc_circuit(gen_weights, disc_weights)\n",
    "    # convert to probability\n",
    "    prob_fake_true = (fake_disc_output + 1) / 2\n",
    "    return prob_fake_true\n",
    "\n",
    "\n",
    "def disc_cost(disc_weights):\n",
    "    cost = prob_fake_true(gen_weights, disc_weights) - prob_real_true(disc_weights)\n",
    "    return cost\n",
    "\n",
    "\n",
    "def gen_cost(gen_weights):\n",
    "    cost = -prob_fake_true(gen_weights, disc_weights)\n",
    "    return cost\n",
    "\n"
   ]
  },
  {
   "cell_type": "markdown",
   "metadata": {},
   "source": [
    "Initializing the weights\n",
    "=================\n"
   ]
  },
  {
   "cell_type": "markdown",
   "metadata": {},
   "source": [
    "Real state generation"
   ]
  },
  {
   "cell_type": "code",
   "execution_count": 31,
   "metadata": {},
   "outputs": [],
   "source": [
    "real_params = np.random.uniform(low=-np.pi, high=np.pi, size=15)"
   ]
  },
  {
   "cell_type": "markdown",
   "metadata": {},
   "source": [
    "Generator and Discriminator parameter initialization"
   ]
  },
  {
   "cell_type": "code",
   "execution_count": 32,
   "metadata": {},
   "outputs": [],
   "source": [
    "init_gen_weights = np.random.uniform(low=-np.pi, high=np.pi, size=30)\n",
    "\n",
    "init_disc_weights = np.random.uniform(low=-np.pi, high=np.pi, size=60)\n",
    "\n",
    "#gen_weights = tf.Variable(init_gen_weights)\n",
    "#disc_weights = tf.Variable(init_disc_weights)\n",
    "gen_weights=np.array(list(init_gen_weights), requires_grad=False)\n",
    "disc_weights=np.array(list(init_disc_weights), requires_grad=True)\n"
   ]
  },
  {
   "cell_type": "markdown",
   "metadata": {},
   "source": [
    "We begin by creating the optimizer:\n"
   ]
  },
  {
   "cell_type": "code",
   "execution_count": 33,
   "metadata": {},
   "outputs": [],
   "source": [
    "#opt = tf.keras.optimizers.Adam(learning_rate = 0.05) #in another simulation they use 0.1 #AMSgrad = True\n",
    "#opt  = qml.ShotAdaptiveOptimizer(min_shots=10)\n",
    "#opt=qml.AdamOptimizer(stepsize=0.5)\n",
    "opt1=qml.GradientDescentOptimizer(stepsize=0.05)\n",
    "opt2=qml.GradientDescentOptimizer(stepsize=0.05)"
   ]
  },
  {
   "cell_type": "markdown",
   "metadata": {},
   "source": [
    "We train in turns. We expect around 250 turns to converge. Each turn consists of 5 discriminator steps and 1 generator step."
   ]
  },
  {
   "cell_type": "markdown",
   "metadata": {},
   "source": [
    "# Define some other metrics"
   ]
  },
  {
   "cell_type": "code",
   "execution_count": 34,
   "metadata": {},
   "outputs": [],
   "source": [
    "dev_state = qml.device('default.qubit', wires=2)"
   ]
  },
  {
   "cell_type": "code",
   "execution_count": 35,
   "metadata": {},
   "outputs": [],
   "source": [
    "@qml.qnode(dev_state)\n",
    "def real_circuit(w):\n",
    "    U1(w[0:3], 0)\n",
    "    U1(w[3:6], 1)\n",
    "    qml.CNOT(wires = [1,0])\n",
    "    qml.RZ(w[6],wires = 0)\n",
    "    qml.RY(w[7],wires = 1)\n",
    "    qml.CNOT(wires = [0,1])\n",
    "    qml.RY(w[8],wires = 1)\n",
    "    qml.CNOT(wires = [1,0])\n",
    "    U1(w[9:12], 0)\n",
    "    U1(w[12:15],1)\n",
    "    return qml.state()\n",
    "\n",
    "\n",
    "@qml.qnode(dev_state)\n",
    "def gen_circuit(gen_weights):\n",
    "    generator(gen_weights)\n",
    "    return qml.state()"
   ]
  },
  {
   "cell_type": "code",
   "execution_count": 36,
   "metadata": {},
   "outputs": [],
   "source": [
    "def fidelity(real_params,gen_weights):\n",
    "    real_state = qt.Qobj(real_circuit(real_params).numpy())\n",
    "    gen_state = qt.Qobj(gen_circuit(gen_weights).numpy())\n",
    "    \n",
    "    ρ_R = real_state * real_state.dag()\n",
    "    ρ_G = gen_state * gen_state.dag()\n",
    "    \n",
    "    F = qt.fidelity(ρ_R,ρ_G)\n",
    "    return F"
   ]
  },
  {
   "cell_type": "code",
   "execution_count": 37,
   "metadata": {},
   "outputs": [],
   "source": [
    "def trace_distance(real_params,gen_weights):\n",
    "    real_state = qt.Qobj(real_circuit(real_params).numpy())\n",
    "    gen_state = qt.Qobj(gen_circuit(gen_weights).numpy())\n",
    "    \n",
    "    ρ_R = real_state * real_state.dag()\n",
    "    ρ_G = gen_state * gen_state.dag()\n",
    "    \n",
    "    d = qt.tracedist(ρ_R,ρ_G)\n",
    "    return d"
   ]
  },
  {
   "cell_type": "markdown",
   "metadata": {},
   "source": [
    "------------------------------------------------------------------------------"
   ]
  },
  {
   "cell_type": "markdown",
   "metadata": {},
   "source": [
    "# Training routine"
   ]
  },
  {
   "cell_type": "code",
   "execution_count": 38,
   "metadata": {},
   "outputs": [
    {
     "name": "stdout",
     "output_type": "stream",
     "text": [
      "Begin 0 discriminator optimization\n",
      "Before 0 disc gradient computation of 0 round of optimization\n",
      "After0 disc gradient computation of 0 round of optimization\n",
      "After0 disc opt update of 0 round of optimization\n",
      "Before 1 disc gradient computation of 0 round of optimization\n",
      "After1 disc gradient computation of 0 round of optimization\n",
      "After1 disc opt update of 0 round of optimization\n",
      "Before 2 disc gradient computation of 0 round of optimization\n",
      "After2 disc gradient computation of 0 round of optimization\n",
      "After2 disc opt update of 0 round of optimization\n",
      "Before 3 disc gradient computation of 0 round of optimization\n",
      "After3 disc gradient computation of 0 round of optimization\n",
      "After3 disc opt update of 0 round of optimization\n",
      "Before 4 disc gradient computation of 0 round of optimization\n",
      "After4 disc gradient computation of 0 round of optimization\n",
      "After4 disc opt update of 0 round of optimization\n",
      "Step 4: cost = -0.33822306220420895\n",
      "End of 0 discriminator optimization\n",
      "end of 0 optimization \n",
      "Begin of 0 generator optimization\n",
      "Before gen gradient computation\n",
      "After gen gradient computation\n",
      "After gen opt update \n",
      "computation of fidelity\n",
      "end of fidelity\n",
      "computation of trace distance\n",
      "end of computation of trace distance\n",
      "P(R|R)-P(R|G):  0.33822306220420895\n",
      "P(R|G):  0.274149000325362\n",
      "Fidelity:  0.7883993073436752\n",
      "Trace distance:  0.6151638441504463\n",
      "------------------------------\n",
      "Begin 1 discriminator optimization\n",
      "Before 0 disc gradient computation of 1 round of optimization\n",
      "After0 disc gradient computation of 1 round of optimization\n",
      "After0 disc opt update of 1 round of optimization\n",
      "Before 1 disc gradient computation of 1 round of optimization\n",
      "After1 disc gradient computation of 1 round of optimization\n",
      "After1 disc opt update of 1 round of optimization\n",
      "Before 2 disc gradient computation of 1 round of optimization\n",
      "After2 disc gradient computation of 1 round of optimization\n",
      "After2 disc opt update of 1 round of optimization\n",
      "Before 3 disc gradient computation of 1 round of optimization\n",
      "After3 disc gradient computation of 1 round of optimization\n",
      "After3 disc opt update of 1 round of optimization\n",
      "Before 4 disc gradient computation of 1 round of optimization\n",
      "After4 disc gradient computation of 1 round of optimization\n",
      "After4 disc opt update of 1 round of optimization\n",
      "Step 4: cost = -0.4596137983021083\n",
      "End of 1 discriminator optimization\n",
      "end of 1 optimization \n",
      "Begin of 1 generator optimization\n",
      "Before gen gradient computation\n",
      "After gen gradient computation\n",
      "After gen opt update \n",
      "computation of fidelity\n",
      "end of fidelity\n",
      "computation of trace distance\n",
      "end of computation of trace distance\n",
      "P(R|R)-P(R|G):  0.4596137983021083\n",
      "P(R|G):  0.21164960046409326\n",
      "Fidelity:  0.7971803289494015\n",
      "Trace distance:  0.6037412785590741\n",
      "------------------------------\n",
      "Begin 2 discriminator optimization\n",
      "Before 0 disc gradient computation of 2 round of optimization\n",
      "After0 disc gradient computation of 2 round of optimization\n",
      "After0 disc opt update of 2 round of optimization\n",
      "Before 1 disc gradient computation of 2 round of optimization\n",
      "After1 disc gradient computation of 2 round of optimization\n",
      "After1 disc opt update of 2 round of optimization\n",
      "Before 2 disc gradient computation of 2 round of optimization\n",
      "After2 disc gradient computation of 2 round of optimization\n",
      "After2 disc opt update of 2 round of optimization\n",
      "Before 3 disc gradient computation of 2 round of optimization\n",
      "After3 disc gradient computation of 2 round of optimization\n",
      "After3 disc opt update of 2 round of optimization\n",
      "Before 4 disc gradient computation of 2 round of optimization\n",
      "After4 disc gradient computation of 2 round of optimization\n",
      "After4 disc opt update of 2 round of optimization\n",
      "Step 4: cost = -0.5242493431795533\n",
      "End of 2 discriminator optimization\n",
      "end of 2 optimization \n",
      "Begin of 2 generator optimization\n",
      "Before gen gradient computation\n",
      "After gen gradient computation\n",
      "After gen opt update \n",
      "computation of fidelity\n",
      "end of fidelity\n",
      "computation of trace distance\n",
      "end of computation of trace distance\n",
      "P(R|R)-P(R|G):  0.5242493431795533\n",
      "P(R|G):  0.2072642698109537\n",
      "Fidelity:  0.809338283625624\n",
      "Trace distance:  0.5873427957535032\n",
      "------------------------------\n",
      "Begin 3 discriminator optimization\n",
      "Before 0 disc gradient computation of 3 round of optimization\n",
      "After0 disc gradient computation of 3 round of optimization\n",
      "After0 disc opt update of 3 round of optimization\n",
      "Before 1 disc gradient computation of 3 round of optimization\n",
      "After1 disc gradient computation of 3 round of optimization\n",
      "After1 disc opt update of 3 round of optimization\n",
      "Before 2 disc gradient computation of 3 round of optimization\n",
      "After2 disc gradient computation of 3 round of optimization\n",
      "After2 disc opt update of 3 round of optimization\n",
      "Before 3 disc gradient computation of 3 round of optimization\n",
      "After3 disc gradient computation of 3 round of optimization\n",
      "After3 disc opt update of 3 round of optimization\n",
      "Before 4 disc gradient computation of 3 round of optimization\n",
      "After4 disc gradient computation of 3 round of optimization\n",
      "After4 disc opt update of 3 round of optimization\n",
      "Step 4: cost = -0.5465168089360677\n",
      "End of 3 discriminator optimization\n",
      "end of 3 optimization \n",
      "Begin of 3 generator optimization\n",
      "Before gen gradient computation\n",
      "After gen gradient computation\n",
      "After gen opt update \n",
      "computation of fidelity\n",
      "end of fidelity\n",
      "computation of trace distance\n",
      "end of computation of trace distance\n",
      "P(R|R)-P(R|G):  0.5465168089360677\n",
      "P(R|G):  0.21984254512292312\n",
      "Fidelity:  0.8236087829672614\n",
      "Trace distance:  0.5671583497963062\n",
      "------------------------------\n",
      "Begin 4 discriminator optimization\n",
      "Before 0 disc gradient computation of 4 round of optimization\n",
      "After0 disc gradient computation of 4 round of optimization\n",
      "After0 disc opt update of 4 round of optimization\n",
      "Before 1 disc gradient computation of 4 round of optimization\n",
      "After1 disc gradient computation of 4 round of optimization\n",
      "After1 disc opt update of 4 round of optimization\n",
      "Before 2 disc gradient computation of 4 round of optimization\n",
      "After2 disc gradient computation of 4 round of optimization\n",
      "After2 disc opt update of 4 round of optimization\n",
      "Before 3 disc gradient computation of 4 round of optimization\n",
      "After3 disc gradient computation of 4 round of optimization\n",
      "After3 disc opt update of 4 round of optimization\n",
      "Before 4 disc gradient computation of 4 round of optimization\n",
      "After4 disc gradient computation of 4 round of optimization\n",
      "After4 disc opt update of 4 round of optimization\n",
      "Step 4: cost = -0.5446832264308629\n",
      "End of 4 discriminator optimization\n",
      "end of 4 optimization \n",
      "Begin of 4 generator optimization\n",
      "Before gen gradient computation\n",
      "After gen gradient computation\n",
      "After gen opt update \n",
      "computation of fidelity\n",
      "end of fidelity\n",
      "computation of trace distance\n",
      "end of computation of trace distance\n",
      "P(R|R)-P(R|G):  0.5446832264308629\n",
      "P(R|G):  0.23573648272909808\n",
      "Fidelity:  0.8387443294733937\n",
      "Trace distance:  0.5445254411576115\n",
      "------------------------------\n",
      "Begin 5 discriminator optimization\n",
      "Before 0 disc gradient computation of 5 round of optimization\n",
      "After0 disc gradient computation of 5 round of optimization\n",
      "After0 disc opt update of 5 round of optimization\n",
      "Before 1 disc gradient computation of 5 round of optimization\n",
      "After1 disc gradient computation of 5 round of optimization\n",
      "After1 disc opt update of 5 round of optimization\n",
      "Before 2 disc gradient computation of 5 round of optimization\n",
      "After2 disc gradient computation of 5 round of optimization\n",
      "After2 disc opt update of 5 round of optimization\n",
      "Before 3 disc gradient computation of 5 round of optimization\n",
      "After3 disc gradient computation of 5 round of optimization\n",
      "After3 disc opt update of 5 round of optimization\n",
      "Before 4 disc gradient computation of 5 round of optimization\n",
      "After4 disc gradient computation of 5 round of optimization\n",
      "After4 disc opt update of 5 round of optimization\n",
      "Step 4: cost = -0.5309614601102234\n",
      "End of 5 discriminator optimization\n",
      "end of 5 optimization \n",
      "Begin of 5 generator optimization\n",
      "Before gen gradient computation\n",
      "After gen gradient computation\n",
      "After gen opt update \n",
      "computation of fidelity\n",
      "end of fidelity\n",
      "computation of trace distance\n",
      "end of computation of trace distance\n",
      "P(R|R)-P(R|G):  0.5309614601102234\n",
      "P(R|G):  0.2514513797445545\n",
      "Fidelity:  0.8539111235152701\n",
      "Trace distance:  0.5204188993753323\n",
      "------------------------------\n",
      "Begin 6 discriminator optimization\n",
      "Before 0 disc gradient computation of 6 round of optimization\n"
     ]
    }
   ],
   "source": [
    "#----- Metrics ----------------------------\n",
    "\n",
    "Disc_cost = [] # P(R|R)-P(R|G)\n",
    "Gen_cost = [] # P(R|G)\n",
    "Trace_d = [] #Trace distance\n",
    "F = [] #Fidelity\n",
    "\n",
    "#-------------------------------------------\n",
    "\n",
    "costD = lambda: disc_cost(disc_weights)\n",
    "costG = lambda: gen_cost(gen_weights)\n",
    "\n",
    "#print(\"gen_weights\", gen_weights)\n",
    "#print(\"disc_weights\", disc_weights)\n",
    "\n",
    "\n",
    "for turn in range(250):\n",
    "    print(\"Begin \"+ str(turn) + \" discriminator optimization\")\n",
    "    disc_weights=np.array(list(disc_weights), requires_grad=True)\n",
    "    gen_weights=np.array(list(gen_weights), requires_grad=False)\n",
    "    for step in range(5): #The actual ratio should be 20 to 1, according to what we discussed\n",
    "        #opt.minimize(costD, disc_weights)\n",
    "        print(\"Before \"+str(step) + \" disc gradient computation of \"+str(turn)+ \" round of optimization\")\n",
    "        #grad_fn_disc=real_disc_circuit_gradient(disc_weights)-gen_disc_circuit_gradient_disc(disc_weights)\n",
    "        grad_gen_circuit_disc=qml.grad(gen_disc_circuit, argnum=1)\n",
    "        grad_real_disc_circuit=qml.grad(real_disc_circuit, argnum=1) \n",
    "        grad_fn_disc=grad_gen_circuit_disc(gen_weights, disc_weights)-grad_real_disc_circuit(real_params, disc_weights)\n",
    "        #print(\"grad_fn_disc\", grad_fn_disc)\n",
    "        print(\"After\"+str(step) + \" disc gradient computation of \"+str(turn)+ \" round of optimization\")\n",
    "        disc_weights=np.array(opt1.apply_grad(grad_fn_disc, disc_weights), requires_grad=True)\n",
    "        #disc_weights=np.array(opt1.step(disc_cost, disc_weights), requires_grad=True)\n",
    "        #print(\"disc_weights\", disc_weights)\n",
    "        print(\"After\"+str(step) + \" disc opt update of \"+str(turn)+ \" round of optimization\")\n",
    "\n",
    "        if step == 4:\n",
    "            costD_val = costD().numpy()\n",
    "            print(\"Step {}: cost = {}\".format(step, costD_val))\n",
    "            Disc_cost += [-costD_val] # P(R|R)-P(R|G)\n",
    "    print(\"End of \" + str(turn)+\" discriminator optimization\")    \n",
    "    print(\"end of \"+ str(turn)+ \" optimization \")\n",
    "            #opt.minimize(costG, gen_weights)\n",
    "    disc_weights=np.array(list(disc_weights), requires_grad=False)\n",
    "    gen_weights=np.array(list(gen_weights), requires_grad=True)\n",
    "    print(\"Begin of \"+str(turn)+\" generator optimization\")\n",
    "    #print(\"gen_weights\", gen_weights)\n",
    "    #print(\"disc_weights\", disc_weights)\n",
    "    disc_weights=np.array(list(disc_weights), requires_grad=False)\n",
    "    gen_weights=np.array(list(gen_weights), requires_grad=True)\n",
    "\n",
    "    print(\"Before gen gradient computation\")\n",
    "    #grad_fn_gen=-gen_disc_circuit_gradient_gen(gen_weights)\n",
    "    grad_fn_gen=-qml.grad(gen_disc_circuit, argnum=0)(gen_weights, disc_weights)\n",
    "    #print(\"grad_fn_gen\", grad_fn_gen)\n",
    "    print(\"After gen gradient computation\")\n",
    "    gen_weights=np.array(opt2.apply_grad(grad_fn_gen, gen_weights), requires_grad=True)\n",
    "    #gen_weights=np.array(opt2.step(gen_cost, gen_weights), requires_grad=True)\n",
    "   # print(\"gen_weights\", gen_weights)\n",
    "    #print(\"disc_weights\", disc_weights)\n",
    "    print(\"After gen opt update \")\n",
    "    costG_val = costG().numpy()\n",
    "    #print(\"Step {}: cost = {}\".format(step, costG_val))\n",
    "    Gen_cost += [-costG_val] # P(R|G)\n",
    "    \n",
    " \n",
    "\n",
    "    print(\"computation of fidelity\")\n",
    "    fid = fidelity(real_params,gen_weights)\n",
    "\n",
    "    F += [fid] #Fidelity\n",
    "    print(\"end of fidelity\")\n",
    "    print(\"computation of trace distance\")\n",
    "    TrD = trace_distance(real_params,gen_weights)\n",
    "    print(\"end of computation of trace distance\")\n",
    "    Trace_d += [TrD] #Trace distance\n",
    "    \n",
    "    print(\"P(R|R)-P(R|G): \", -costD_val)\n",
    "    print(\"P(R|G): \", -costG_val)\n",
    "    print(\"Fidelity: \",fid)\n",
    "    print(\"Trace distance: \",TrD)\n",
    "    print(\"------------------------------\")\n",
    "    "
   ]
  },
  {
   "cell_type": "code",
   "execution_count": null,
   "metadata": {},
   "outputs": [],
   "source": [
    "F = np.array(F)\n",
    "Gen_cost = np.array(Gen_cost)\n",
    "Disc_cost = np.array(Disc_cost)\n",
    "Trace_d = np.array(Trace_d)"
   ]
  },
  {
   "cell_type": "code",
   "execution_count": null,
   "metadata": {},
   "outputs": [],
   "source": []
  },
  {
   "cell_type": "code",
   "execution_count": 25,
   "metadata": {},
   "outputs": [
    {
     "data": {
      "image/png": "[encoded data removed]",
      "text/plain": [
       "<Figure size 432x288 with 1 Axes>"
      ]
     },
     "metadata": {
      "needs_background": "light"
     },
     "output_type": "display_data"
    }
   ],
   "source": [
    "plt.plot(F, label='Fidelity')\n",
    "plt.plot(Gen_cost, label='P(R|G)')\n",
    "plt.plot(Disc_cost, label='P(R|R)-P(R|G)')\n",
    "plt.plot(Trace_d, label='Trace distance')\n",
    "plt.ylim([0,1.1])\n",
    "plt.xlabel('Turns (5D+1G)') \n",
    "plt.title(\"2-qubit $|\\psi>$ metrics\")\n",
    "plt.legend()\n",
    "plt.savefig('2qubitlearning_250_runs_1_G_layer.png', format='png')\n",
    "plt.savefig('2qubitlearning_250_runs_1_G_layer.pdf')"
   ]
  },
  {
   "cell_type": "code",
   "execution_count": 54,
   "metadata": {},
   "outputs": [
    {
     "ename": "AttributeError",
     "evalue": "type object 'h5py.h5.H5PYConfig' has no attribute '__reduce_cython__'",
     "output_type": "error",
     "traceback": [
      "\u001b[1;31m---------------------------------------------------------------------------\u001b[0m",
      "\u001b[1;31mQuantumFunctionError\u001b[0m                      Traceback (most recent call last)",
      "\u001b[1;32m~\\anaconda3\\lib\\site-packages\\pennylane\\qnode.py\u001b[0m in \u001b[0;36mget_best_method\u001b[1;34m(device, interface)\u001b[0m\n\u001b[0;32m    335\u001b[0m         \u001b[1;32mtry\u001b[0m\u001b[1;33m:\u001b[0m\u001b[1;33m\u001b[0m\u001b[1;33m\u001b[0m\u001b[0m\n\u001b[1;32m--> 336\u001b[1;33m             \u001b[1;32mreturn\u001b[0m \u001b[0mQNode\u001b[0m\u001b[1;33m.\u001b[0m\u001b[0m_validate_device_method\u001b[0m\u001b[1;33m(\u001b[0m\u001b[0mdevice\u001b[0m\u001b[1;33m,\u001b[0m \u001b[0minterface\u001b[0m\u001b[1;33m)\u001b[0m\u001b[1;33m\u001b[0m\u001b[1;33m\u001b[0m\u001b[0m\n\u001b[0m\u001b[0;32m    337\u001b[0m         \u001b[1;32mexcept\u001b[0m \u001b[0mqml\u001b[0m\u001b[1;33m.\u001b[0m\u001b[0mQuantumFunctionError\u001b[0m\u001b[1;33m:\u001b[0m\u001b[1;33m\u001b[0m\u001b[1;33m\u001b[0m\u001b[0m\n",
      "\u001b[1;32m~\\anaconda3\\lib\\site-packages\\pennylane\\qnode.py\u001b[0m in \u001b[0;36m_validate_device_method\u001b[1;34m(device, interface)\u001b[0m\n\u001b[0;32m    528\u001b[0m         \u001b[1;32mif\u001b[0m \u001b[1;32mnot\u001b[0m \u001b[0mprovides_jacobian\u001b[0m\u001b[1;33m:\u001b[0m\u001b[1;33m\u001b[0m\u001b[1;33m\u001b[0m\u001b[0m\n\u001b[1;32m--> 529\u001b[1;33m             raise qml.QuantumFunctionError(\n\u001b[0m\u001b[0;32m    530\u001b[0m                 \u001b[1;34mf\"The {device.short_name} device does not provide a native \"\u001b[0m\u001b[1;33m\u001b[0m\u001b[1;33m\u001b[0m\u001b[0m\n",
      "\u001b[1;31mQuantumFunctionError\u001b[0m: The default.qubit device does not provide a native method for computing the jacobian.",
      "\nDuring handling of the above exception, another exception occurred:\n",
      "\u001b[1;31mAttributeError\u001b[0m                            Traceback (most recent call last)",
      "\u001b[1;32m~\\AppData\\Local\\Temp/ipykernel_24564/3835537250.py\u001b[0m in \u001b[0;36m<module>\u001b[1;34m\u001b[0m\n\u001b[0;32m      1\u001b[0m \u001b[0mobs\u001b[0m \u001b[1;33m=\u001b[0m \u001b[1;33m[\u001b[0m\u001b[0mqml\u001b[0m\u001b[1;33m.\u001b[0m\u001b[0mPauliX\u001b[0m\u001b[1;33m(\u001b[0m\u001b[1;36m0\u001b[0m\u001b[1;33m)\u001b[0m\u001b[1;33m,\u001b[0m \u001b[0mqml\u001b[0m\u001b[1;33m.\u001b[0m\u001b[0mPauliY\u001b[0m\u001b[1;33m(\u001b[0m\u001b[1;36m0\u001b[0m\u001b[1;33m)\u001b[0m\u001b[1;33m,\u001b[0m \u001b[0mqml\u001b[0m\u001b[1;33m.\u001b[0m\u001b[0mPauliZ\u001b[0m\u001b[1;33m(\u001b[0m\u001b[1;36m0\u001b[0m\u001b[1;33m)\u001b[0m\u001b[1;33m]\u001b[0m\u001b[1;33m\u001b[0m\u001b[1;33m\u001b[0m\u001b[0m\n\u001b[0;32m      2\u001b[0m \u001b[1;33m\u001b[0m\u001b[0m\n\u001b[1;32m----> 3\u001b[1;33m \u001b[0mbloch_vector_real\u001b[0m \u001b[1;33m=\u001b[0m \u001b[0mqml\u001b[0m\u001b[1;33m.\u001b[0m\u001b[0mmap\u001b[0m\u001b[1;33m(\u001b[0m\u001b[0mreal\u001b[0m\u001b[1;33m,\u001b[0m \u001b[0mobs\u001b[0m\u001b[1;33m,\u001b[0m \u001b[0mdev\u001b[0m\u001b[1;33m,\u001b[0m \u001b[0minterface\u001b[0m\u001b[1;33m=\u001b[0m\u001b[1;34m\"tf\"\u001b[0m\u001b[1;33m)\u001b[0m\u001b[1;33m\u001b[0m\u001b[1;33m\u001b[0m\u001b[0m\n\u001b[0m\u001b[0;32m      4\u001b[0m \u001b[0mbloch_vector_generator\u001b[0m \u001b[1;33m=\u001b[0m \u001b[0mqml\u001b[0m\u001b[1;33m.\u001b[0m\u001b[0mmap\u001b[0m\u001b[1;33m(\u001b[0m\u001b[0mgenerator\u001b[0m\u001b[1;33m,\u001b[0m \u001b[0mobs\u001b[0m\u001b[1;33m,\u001b[0m \u001b[0mdev\u001b[0m\u001b[1;33m,\u001b[0m \u001b[0minterface\u001b[0m\u001b[1;33m=\u001b[0m\u001b[1;34m\"tf\"\u001b[0m\u001b[1;33m)\u001b[0m\u001b[1;33m\u001b[0m\u001b[1;33m\u001b[0m\u001b[0m\n\u001b[0;32m      5\u001b[0m \u001b[1;33m\u001b[0m\u001b[0m\n",
      "\u001b[1;32m~\\anaconda3\\lib\\site-packages\\pennylane\\collections\\map.py\u001b[0m in \u001b[0;36mmap\u001b[1;34m(template, observables, device, measure, interface, diff_method, **kwargs)\u001b[0m\n\u001b[0;32m    137\u001b[0m             \u001b[1;32mreturn\u001b[0m \u001b[0mMEASURE_MAP\u001b[0m\u001b[1;33m[\u001b[0m\u001b[0m_m\u001b[0m\u001b[1;33m]\u001b[0m\u001b[1;33m(\u001b[0m\u001b[0m_obs\u001b[0m\u001b[1;33m)\u001b[0m\u001b[1;33m\u001b[0m\u001b[1;33m\u001b[0m\u001b[0m\n\u001b[0;32m    138\u001b[0m \u001b[1;33m\u001b[0m\u001b[0m\n\u001b[1;32m--> 139\u001b[1;33m         \u001b[0mqnode\u001b[0m \u001b[1;33m=\u001b[0m \u001b[0mqml\u001b[0m\u001b[1;33m.\u001b[0m\u001b[0mQNode\u001b[0m\u001b[1;33m(\u001b[0m\u001b[0mcircuit\u001b[0m\u001b[1;33m,\u001b[0m \u001b[0mdev\u001b[0m\u001b[1;33m,\u001b[0m \u001b[0minterface\u001b[0m\u001b[1;33m=\u001b[0m\u001b[0minterface\u001b[0m\u001b[1;33m,\u001b[0m \u001b[0mdiff_method\u001b[0m\u001b[1;33m=\u001b[0m\u001b[0mdiff_method\u001b[0m\u001b[1;33m,\u001b[0m \u001b[1;33m**\u001b[0m\u001b[0mkwargs\u001b[0m\u001b[1;33m)\u001b[0m\u001b[1;33m\u001b[0m\u001b[1;33m\u001b[0m\u001b[0m\n\u001b[0m\u001b[0;32m    140\u001b[0m         \u001b[0mqnodes\u001b[0m\u001b[1;33m.\u001b[0m\u001b[0mappend\u001b[0m\u001b[1;33m(\u001b[0m\u001b[0mqnode\u001b[0m\u001b[1;33m)\u001b[0m\u001b[1;33m\u001b[0m\u001b[1;33m\u001b[0m\u001b[0m\n\u001b[0;32m    141\u001b[0m \u001b[1;33m\u001b[0m\u001b[0m\n",
      "\u001b[1;32m~\\anaconda3\\lib\\site-packages\\pennylane\\qnode.py\u001b[0m in \u001b[0;36m__init__\u001b[1;34m(self, func, device, interface, diff_method, mutable, max_expansion, h, order, shift, adjoint_cache, argnum, **kwargs)\u001b[0m\n\u001b[0;32m    220\u001b[0m         \u001b[0mself\u001b[0m\u001b[1;33m.\u001b[0m\u001b[0mdiff_method_change\u001b[0m \u001b[1;33m=\u001b[0m \u001b[1;32mFalse\u001b[0m\u001b[1;33m\u001b[0m\u001b[1;33m\u001b[0m\u001b[0m\n\u001b[0;32m    221\u001b[0m \u001b[1;33m\u001b[0m\u001b[0m\n\u001b[1;32m--> 222\u001b[1;33m         self._tape, self.interface, self.device, tape_diff_options = self.get_tape(\n\u001b[0m\u001b[0;32m    223\u001b[0m             \u001b[0mdevice\u001b[0m\u001b[1;33m,\u001b[0m \u001b[0minterface\u001b[0m\u001b[1;33m,\u001b[0m \u001b[0mdiff_method\u001b[0m\u001b[1;33m\u001b[0m\u001b[1;33m\u001b[0m\u001b[0m\n\u001b[0;32m    224\u001b[0m         )\n",
      "\u001b[1;32m~\\anaconda3\\lib\\site-packages\\pennylane\\qnode.py\u001b[0m in \u001b[0;36mget_tape\u001b[1;34m(device, interface, diff_method)\u001b[0m\n\u001b[0;32m    278\u001b[0m \u001b[1;33m\u001b[0m\u001b[0m\n\u001b[0;32m    279\u001b[0m         \u001b[1;32mif\u001b[0m \u001b[0mdiff_method\u001b[0m \u001b[1;33m==\u001b[0m \u001b[1;34m\"best\"\u001b[0m\u001b[1;33m:\u001b[0m\u001b[1;33m\u001b[0m\u001b[1;33m\u001b[0m\u001b[0m\n\u001b[1;32m--> 280\u001b[1;33m             \u001b[1;32mreturn\u001b[0m \u001b[0mQNode\u001b[0m\u001b[1;33m.\u001b[0m\u001b[0mget_best_method\u001b[0m\u001b[1;33m(\u001b[0m\u001b[0mdevice\u001b[0m\u001b[1;33m,\u001b[0m \u001b[0minterface\u001b[0m\u001b[1;33m)\u001b[0m\u001b[1;33m\u001b[0m\u001b[1;33m\u001b[0m\u001b[0m\n\u001b[0m\u001b[0;32m    281\u001b[0m \u001b[1;33m\u001b[0m\u001b[0m\n\u001b[0;32m    282\u001b[0m         \u001b[1;32mif\u001b[0m \u001b[0mdiff_method\u001b[0m \u001b[1;33m==\u001b[0m \u001b[1;34m\"backprop\"\u001b[0m\u001b[1;33m:\u001b[0m\u001b[1;33m\u001b[0m\u001b[1;33m\u001b[0m\u001b[0m\n",
      "\u001b[1;32m~\\anaconda3\\lib\\site-packages\\pennylane\\qnode.py\u001b[0m in \u001b[0;36mget_best_method\u001b[1;34m(device, interface)\u001b[0m\n\u001b[0;32m    337\u001b[0m         \u001b[1;32mexcept\u001b[0m \u001b[0mqml\u001b[0m\u001b[1;33m.\u001b[0m\u001b[0mQuantumFunctionError\u001b[0m\u001b[1;33m:\u001b[0m\u001b[1;33m\u001b[0m\u001b[1;33m\u001b[0m\u001b[0m\n\u001b[0;32m    338\u001b[0m             \u001b[1;32mtry\u001b[0m\u001b[1;33m:\u001b[0m\u001b[1;33m\u001b[0m\u001b[1;33m\u001b[0m\u001b[0m\n\u001b[1;32m--> 339\u001b[1;33m                 \u001b[1;32mreturn\u001b[0m \u001b[0mQNode\u001b[0m\u001b[1;33m.\u001b[0m\u001b[0m_validate_backprop_method\u001b[0m\u001b[1;33m(\u001b[0m\u001b[0mdevice\u001b[0m\u001b[1;33m,\u001b[0m \u001b[0minterface\u001b[0m\u001b[1;33m)\u001b[0m\u001b[1;33m\u001b[0m\u001b[1;33m\u001b[0m\u001b[0m\n\u001b[0m\u001b[0;32m    340\u001b[0m             \u001b[1;32mexcept\u001b[0m \u001b[0mqml\u001b[0m\u001b[1;33m.\u001b[0m\u001b[0mQuantumFunctionError\u001b[0m\u001b[1;33m:\u001b[0m\u001b[1;33m\u001b[0m\u001b[1;33m\u001b[0m\u001b[0m\n\u001b[0;32m    341\u001b[0m                 \u001b[1;32mtry\u001b[0m\u001b[1;33m:\u001b[0m\u001b[1;33m\u001b[0m\u001b[1;33m\u001b[0m\u001b[0m\n",
      "\u001b[1;32m~\\anaconda3\\lib\\site-packages\\pennylane\\qnode.py\u001b[0m in \u001b[0;36m_validate_backprop_method\u001b[1;34m(device, interface)\u001b[0m\n\u001b[0;32m    402\u001b[0m                 \u001b[1;31m# TODO: need a better way of passing existing device init options\u001b[0m\u001b[1;33m\u001b[0m\u001b[1;33m\u001b[0m\u001b[1;33m\u001b[0m\u001b[0m\n\u001b[0;32m    403\u001b[0m                 \u001b[1;31m# to a new device?\u001b[0m\u001b[1;33m\u001b[0m\u001b[1;33m\u001b[0m\u001b[1;33m\u001b[0m\u001b[0m\n\u001b[1;32m--> 404\u001b[1;33m                 device = qml.device(\n\u001b[0m\u001b[0;32m    405\u001b[0m                     \u001b[0mbackprop_devices\u001b[0m\u001b[1;33m[\u001b[0m\u001b[0minterface\u001b[0m\u001b[1;33m]\u001b[0m\u001b[1;33m,\u001b[0m\u001b[1;33m\u001b[0m\u001b[1;33m\u001b[0m\u001b[0m\n\u001b[0;32m    406\u001b[0m                     \u001b[0mwires\u001b[0m\u001b[1;33m=\u001b[0m\u001b[0mdevice\u001b[0m\u001b[1;33m.\u001b[0m\u001b[0mwires\u001b[0m\u001b[1;33m,\u001b[0m\u001b[1;33m\u001b[0m\u001b[1;33m\u001b[0m\u001b[0m\n",
      "\u001b[1;32m~\\anaconda3\\lib\\site-packages\\pennylane\\__init__.py\u001b[0m in \u001b[0;36mdevice\u001b[1;34m(name, *args, **kwargs)\u001b[0m\n\u001b[0;32m    258\u001b[0m \u001b[1;33m\u001b[0m\u001b[0m\n\u001b[0;32m    259\u001b[0m         \u001b[1;31m# loads the device class\u001b[0m\u001b[1;33m\u001b[0m\u001b[1;33m\u001b[0m\u001b[1;33m\u001b[0m\u001b[0m\n\u001b[1;32m--> 260\u001b[1;33m         \u001b[0mplugin_device_class\u001b[0m \u001b[1;33m=\u001b[0m \u001b[0mplugin_devices\u001b[0m\u001b[1;33m[\u001b[0m\u001b[0mname\u001b[0m\u001b[1;33m]\u001b[0m\u001b[1;33m.\u001b[0m\u001b[0mload\u001b[0m\u001b[1;33m(\u001b[0m\u001b[1;33m)\u001b[0m\u001b[1;33m\u001b[0m\u001b[1;33m\u001b[0m\u001b[0m\n\u001b[0m\u001b[0;32m    261\u001b[0m \u001b[1;33m\u001b[0m\u001b[0m\n\u001b[0;32m    262\u001b[0m         \u001b[1;32mif\u001b[0m \u001b[0mVersion\u001b[0m\u001b[1;33m(\u001b[0m\u001b[0mversion\u001b[0m\u001b[1;33m(\u001b[0m\u001b[1;33m)\u001b[0m\u001b[1;33m)\u001b[0m \u001b[1;32mnot\u001b[0m \u001b[1;32min\u001b[0m \u001b[0mSpec\u001b[0m\u001b[1;33m(\u001b[0m\u001b[0mplugin_device_class\u001b[0m\u001b[1;33m.\u001b[0m\u001b[0mpennylane_requires\u001b[0m\u001b[1;33m)\u001b[0m\u001b[1;33m:\u001b[0m\u001b[1;33m\u001b[0m\u001b[1;33m\u001b[0m\u001b[0m\n",
      "\u001b[1;32m~\\anaconda3\\lib\\site-packages\\pkg_resources\\__init__.py\u001b[0m in \u001b[0;36mload\u001b[1;34m(self, require, *args, **kwargs)\u001b[0m\n\u001b[0;32m   2448\u001b[0m         \u001b[1;32mif\u001b[0m \u001b[0mrequire\u001b[0m\u001b[1;33m:\u001b[0m\u001b[1;33m\u001b[0m\u001b[1;33m\u001b[0m\u001b[0m\n\u001b[0;32m   2449\u001b[0m             \u001b[0mself\u001b[0m\u001b[1;33m.\u001b[0m\u001b[0mrequire\u001b[0m\u001b[1;33m(\u001b[0m\u001b[1;33m*\u001b[0m\u001b[0margs\u001b[0m\u001b[1;33m,\u001b[0m \u001b[1;33m**\u001b[0m\u001b[0mkwargs\u001b[0m\u001b[1;33m)\u001b[0m\u001b[1;33m\u001b[0m\u001b[1;33m\u001b[0m\u001b[0m\n\u001b[1;32m-> 2450\u001b[1;33m         \u001b[1;32mreturn\u001b[0m \u001b[0mself\u001b[0m\u001b[1;33m.\u001b[0m\u001b[0mresolve\u001b[0m\u001b[1;33m(\u001b[0m\u001b[1;33m)\u001b[0m\u001b[1;33m\u001b[0m\u001b[1;33m\u001b[0m\u001b[0m\n\u001b[0m\u001b[0;32m   2451\u001b[0m \u001b[1;33m\u001b[0m\u001b[0m\n\u001b[0;32m   2452\u001b[0m     \u001b[1;32mdef\u001b[0m \u001b[0mresolve\u001b[0m\u001b[1;33m(\u001b[0m\u001b[0mself\u001b[0m\u001b[1;33m)\u001b[0m\u001b[1;33m:\u001b[0m\u001b[1;33m\u001b[0m\u001b[1;33m\u001b[0m\u001b[0m\n",
      "\u001b[1;32m~\\anaconda3\\lib\\site-packages\\pkg_resources\\__init__.py\u001b[0m in \u001b[0;36mresolve\u001b[1;34m(self)\u001b[0m\n\u001b[0;32m   2454\u001b[0m         \u001b[0mResolve\u001b[0m \u001b[0mthe\u001b[0m \u001b[0mentry\u001b[0m \u001b[0mpoint\u001b[0m \u001b[1;32mfrom\u001b[0m \u001b[0mits\u001b[0m \u001b[0mmodule\u001b[0m \u001b[1;32mand\u001b[0m \u001b[0mattrs\u001b[0m\u001b[1;33m.\u001b[0m\u001b[1;33m\u001b[0m\u001b[1;33m\u001b[0m\u001b[0m\n\u001b[0;32m   2455\u001b[0m         \"\"\"\n\u001b[1;32m-> 2456\u001b[1;33m         \u001b[0mmodule\u001b[0m \u001b[1;33m=\u001b[0m \u001b[0m__import__\u001b[0m\u001b[1;33m(\u001b[0m\u001b[0mself\u001b[0m\u001b[1;33m.\u001b[0m\u001b[0mmodule_name\u001b[0m\u001b[1;33m,\u001b[0m \u001b[0mfromlist\u001b[0m\u001b[1;33m=\u001b[0m\u001b[1;33m[\u001b[0m\u001b[1;34m'__name__'\u001b[0m\u001b[1;33m]\u001b[0m\u001b[1;33m,\u001b[0m \u001b[0mlevel\u001b[0m\u001b[1;33m=\u001b[0m\u001b[1;36m0\u001b[0m\u001b[1;33m)\u001b[0m\u001b[1;33m\u001b[0m\u001b[1;33m\u001b[0m\u001b[0m\n\u001b[0m\u001b[0;32m   2457\u001b[0m         \u001b[1;32mtry\u001b[0m\u001b[1;33m:\u001b[0m\u001b[1;33m\u001b[0m\u001b[1;33m\u001b[0m\u001b[0m\n\u001b[0;32m   2458\u001b[0m             \u001b[1;32mreturn\u001b[0m \u001b[0mfunctools\u001b[0m\u001b[1;33m.\u001b[0m\u001b[0mreduce\u001b[0m\u001b[1;33m(\u001b[0m\u001b[0mgetattr\u001b[0m\u001b[1;33m,\u001b[0m \u001b[0mself\u001b[0m\u001b[1;33m.\u001b[0m\u001b[0mattrs\u001b[0m\u001b[1;33m,\u001b[0m \u001b[0mmodule\u001b[0m\u001b[1;33m)\u001b[0m\u001b[1;33m\u001b[0m\u001b[1;33m\u001b[0m\u001b[0m\n",
      "\u001b[1;32m~\\anaconda3\\lib\\site-packages\\pennylane\\devices\\default_qubit_tf.py\u001b[0m in \u001b[0;36m<module>\u001b[1;34m\u001b[0m\n\u001b[0;32m     19\u001b[0m \u001b[1;33m\u001b[0m\u001b[0m\n\u001b[0;32m     20\u001b[0m \u001b[1;32mtry\u001b[0m\u001b[1;33m:\u001b[0m\u001b[1;33m\u001b[0m\u001b[1;33m\u001b[0m\u001b[0m\n\u001b[1;32m---> 21\u001b[1;33m     \u001b[1;32mimport\u001b[0m \u001b[0mtensorflow\u001b[0m \u001b[1;32mas\u001b[0m \u001b[0mtf\u001b[0m\u001b[1;33m\u001b[0m\u001b[1;33m\u001b[0m\u001b[0m\n\u001b[0m\u001b[0;32m     22\u001b[0m \u001b[1;33m\u001b[0m\u001b[0m\n\u001b[0;32m     23\u001b[0m     \u001b[1;32mif\u001b[0m \u001b[0mtf\u001b[0m\u001b[1;33m.\u001b[0m\u001b[0m__version__\u001b[0m\u001b[1;33m[\u001b[0m\u001b[1;36m0\u001b[0m\u001b[1;33m]\u001b[0m \u001b[1;33m==\u001b[0m \u001b[1;34m\"1\"\u001b[0m\u001b[1;33m:\u001b[0m\u001b[1;33m\u001b[0m\u001b[1;33m\u001b[0m\u001b[0m\n",
      "\u001b[1;32m~\\anaconda3\\lib\\site-packages\\tensorflow\\__init__.py\u001b[0m in \u001b[0;36m<module>\u001b[1;34m\u001b[0m\n\u001b[0;32m     39\u001b[0m \u001b[1;32mimport\u001b[0m \u001b[0msys\u001b[0m \u001b[1;32mas\u001b[0m \u001b[0m_sys\u001b[0m\u001b[1;33m\u001b[0m\u001b[1;33m\u001b[0m\u001b[0m\n\u001b[0;32m     40\u001b[0m \u001b[1;33m\u001b[0m\u001b[0m\n\u001b[1;32m---> 41\u001b[1;33m \u001b[1;32mfrom\u001b[0m \u001b[0mtensorflow\u001b[0m\u001b[1;33m.\u001b[0m\u001b[0mpython\u001b[0m\u001b[1;33m.\u001b[0m\u001b[0mtools\u001b[0m \u001b[1;32mimport\u001b[0m \u001b[0mmodule_util\u001b[0m \u001b[1;32mas\u001b[0m \u001b[0m_module_util\u001b[0m\u001b[1;33m\u001b[0m\u001b[1;33m\u001b[0m\u001b[0m\n\u001b[0m\u001b[0;32m     42\u001b[0m \u001b[1;32mfrom\u001b[0m \u001b[0mtensorflow\u001b[0m\u001b[1;33m.\u001b[0m\u001b[0mpython\u001b[0m\u001b[1;33m.\u001b[0m\u001b[0mutil\u001b[0m\u001b[1;33m.\u001b[0m\u001b[0mlazy_loader\u001b[0m \u001b[1;32mimport\u001b[0m \u001b[0mLazyLoader\u001b[0m \u001b[1;32mas\u001b[0m \u001b[0m_LazyLoader\u001b[0m\u001b[1;33m\u001b[0m\u001b[1;33m\u001b[0m\u001b[0m\n\u001b[0;32m     43\u001b[0m \u001b[1;33m\u001b[0m\u001b[0m\n",
      "\u001b[1;32m~\\anaconda3\\lib\\site-packages\\tensorflow\\python\\__init__.py\u001b[0m in \u001b[0;36m<module>\u001b[1;34m\u001b[0m\n\u001b[0;32m     45\u001b[0m \u001b[1;32mfrom\u001b[0m \u001b[0mtensorflow\u001b[0m\u001b[1;33m.\u001b[0m\u001b[0mpython\u001b[0m \u001b[1;32mimport\u001b[0m \u001b[0mdata\u001b[0m\u001b[1;33m\u001b[0m\u001b[1;33m\u001b[0m\u001b[0m\n\u001b[0;32m     46\u001b[0m \u001b[1;32mfrom\u001b[0m \u001b[0mtensorflow\u001b[0m\u001b[1;33m.\u001b[0m\u001b[0mpython\u001b[0m \u001b[1;32mimport\u001b[0m \u001b[0mdistribute\u001b[0m\u001b[1;33m\u001b[0m\u001b[1;33m\u001b[0m\u001b[0m\n\u001b[1;32m---> 47\u001b[1;33m \u001b[1;32mfrom\u001b[0m \u001b[0mtensorflow\u001b[0m\u001b[1;33m.\u001b[0m\u001b[0mpython\u001b[0m \u001b[1;32mimport\u001b[0m \u001b[0mkeras\u001b[0m\u001b[1;33m\u001b[0m\u001b[1;33m\u001b[0m\u001b[0m\n\u001b[0m\u001b[0;32m     48\u001b[0m \u001b[1;32mfrom\u001b[0m \u001b[0mtensorflow\u001b[0m\u001b[1;33m.\u001b[0m\u001b[0mpython\u001b[0m\u001b[1;33m.\u001b[0m\u001b[0mfeature_column\u001b[0m \u001b[1;32mimport\u001b[0m \u001b[0mfeature_column_lib\u001b[0m \u001b[1;32mas\u001b[0m \u001b[0mfeature_column\u001b[0m\u001b[1;33m\u001b[0m\u001b[1;33m\u001b[0m\u001b[0m\n\u001b[0;32m     49\u001b[0m \u001b[1;32mfrom\u001b[0m \u001b[0mtensorflow\u001b[0m\u001b[1;33m.\u001b[0m\u001b[0mpython\u001b[0m\u001b[1;33m.\u001b[0m\u001b[0mlayers\u001b[0m \u001b[1;32mimport\u001b[0m \u001b[0mlayers\u001b[0m\u001b[1;33m\u001b[0m\u001b[1;33m\u001b[0m\u001b[0m\n",
      "\u001b[1;32m~\\anaconda3\\lib\\site-packages\\tensorflow\\python\\keras\\__init__.py\u001b[0m in \u001b[0;36m<module>\u001b[1;34m\u001b[0m\n\u001b[0;32m     25\u001b[0m \u001b[1;33m\u001b[0m\u001b[0m\n\u001b[0;32m     26\u001b[0m \u001b[1;31m# See b/110718070#comment18 for more details about this import.\u001b[0m\u001b[1;33m\u001b[0m\u001b[1;33m\u001b[0m\u001b[1;33m\u001b[0m\u001b[0m\n\u001b[1;32m---> 27\u001b[1;33m \u001b[1;32mfrom\u001b[0m \u001b[0mtensorflow\u001b[0m\u001b[1;33m.\u001b[0m\u001b[0mpython\u001b[0m\u001b[1;33m.\u001b[0m\u001b[0mkeras\u001b[0m \u001b[1;32mimport\u001b[0m \u001b[0mmodels\u001b[0m\u001b[1;33m\u001b[0m\u001b[1;33m\u001b[0m\u001b[0m\n\u001b[0m\u001b[0;32m     28\u001b[0m \u001b[1;33m\u001b[0m\u001b[0m\n\u001b[0;32m     29\u001b[0m \u001b[1;32mfrom\u001b[0m \u001b[0mtensorflow\u001b[0m\u001b[1;33m.\u001b[0m\u001b[0mpython\u001b[0m\u001b[1;33m.\u001b[0m\u001b[0mkeras\u001b[0m\u001b[1;33m.\u001b[0m\u001b[0mengine\u001b[0m\u001b[1;33m.\u001b[0m\u001b[0minput_layer\u001b[0m \u001b[1;32mimport\u001b[0m \u001b[0mInput\u001b[0m\u001b[1;33m\u001b[0m\u001b[1;33m\u001b[0m\u001b[0m\n",
      "\u001b[1;32m~\\anaconda3\\lib\\site-packages\\tensorflow\\python\\keras\\models.py\u001b[0m in \u001b[0;36m<module>\u001b[1;34m\u001b[0m\n\u001b[0;32m     24\u001b[0m \u001b[1;32mfrom\u001b[0m \u001b[0mtensorflow\u001b[0m\u001b[1;33m.\u001b[0m\u001b[0mpython\u001b[0m\u001b[1;33m.\u001b[0m\u001b[0mkeras\u001b[0m \u001b[1;32mimport\u001b[0m \u001b[0mmetrics\u001b[0m \u001b[1;32mas\u001b[0m \u001b[0mmetrics_module\u001b[0m\u001b[1;33m\u001b[0m\u001b[1;33m\u001b[0m\u001b[0m\n\u001b[0;32m     25\u001b[0m \u001b[1;32mfrom\u001b[0m \u001b[0mtensorflow\u001b[0m\u001b[1;33m.\u001b[0m\u001b[0mpython\u001b[0m\u001b[1;33m.\u001b[0m\u001b[0mkeras\u001b[0m \u001b[1;32mimport\u001b[0m \u001b[0moptimizers\u001b[0m\u001b[1;33m\u001b[0m\u001b[1;33m\u001b[0m\u001b[0m\n\u001b[1;32m---> 26\u001b[1;33m \u001b[1;32mfrom\u001b[0m \u001b[0mtensorflow\u001b[0m\u001b[1;33m.\u001b[0m\u001b[0mpython\u001b[0m\u001b[1;33m.\u001b[0m\u001b[0mkeras\u001b[0m\u001b[1;33m.\u001b[0m\u001b[0mengine\u001b[0m \u001b[1;32mimport\u001b[0m \u001b[0mfunctional\u001b[0m\u001b[1;33m\u001b[0m\u001b[1;33m\u001b[0m\u001b[0m\n\u001b[0m\u001b[0;32m     27\u001b[0m \u001b[1;32mfrom\u001b[0m \u001b[0mtensorflow\u001b[0m\u001b[1;33m.\u001b[0m\u001b[0mpython\u001b[0m\u001b[1;33m.\u001b[0m\u001b[0mkeras\u001b[0m\u001b[1;33m.\u001b[0m\u001b[0mengine\u001b[0m \u001b[1;32mimport\u001b[0m \u001b[0msequential\u001b[0m\u001b[1;33m\u001b[0m\u001b[1;33m\u001b[0m\u001b[0m\n\u001b[0;32m     28\u001b[0m \u001b[1;32mfrom\u001b[0m \u001b[0mtensorflow\u001b[0m\u001b[1;33m.\u001b[0m\u001b[0mpython\u001b[0m\u001b[1;33m.\u001b[0m\u001b[0mkeras\u001b[0m\u001b[1;33m.\u001b[0m\u001b[0mengine\u001b[0m \u001b[1;32mimport\u001b[0m \u001b[0mtraining\u001b[0m\u001b[1;33m\u001b[0m\u001b[1;33m\u001b[0m\u001b[0m\n",
      "\u001b[1;32m~\\anaconda3\\lib\\site-packages\\tensorflow\\python\\keras\\engine\\functional.py\u001b[0m in \u001b[0;36m<module>\u001b[1;34m\u001b[0m\n\u001b[0;32m     36\u001b[0m \u001b[1;32mfrom\u001b[0m \u001b[0mtensorflow\u001b[0m\u001b[1;33m.\u001b[0m\u001b[0mpython\u001b[0m\u001b[1;33m.\u001b[0m\u001b[0mkeras\u001b[0m\u001b[1;33m.\u001b[0m\u001b[0mengine\u001b[0m \u001b[1;32mimport\u001b[0m \u001b[0mkeras_tensor\u001b[0m\u001b[1;33m\u001b[0m\u001b[1;33m\u001b[0m\u001b[0m\n\u001b[0;32m     37\u001b[0m \u001b[1;32mfrom\u001b[0m \u001b[0mtensorflow\u001b[0m\u001b[1;33m.\u001b[0m\u001b[0mpython\u001b[0m\u001b[1;33m.\u001b[0m\u001b[0mkeras\u001b[0m\u001b[1;33m.\u001b[0m\u001b[0mengine\u001b[0m \u001b[1;32mimport\u001b[0m \u001b[0mnode\u001b[0m \u001b[1;32mas\u001b[0m \u001b[0mnode_module\u001b[0m\u001b[1;33m\u001b[0m\u001b[1;33m\u001b[0m\u001b[0m\n\u001b[1;32m---> 38\u001b[1;33m \u001b[1;32mfrom\u001b[0m \u001b[0mtensorflow\u001b[0m\u001b[1;33m.\u001b[0m\u001b[0mpython\u001b[0m\u001b[1;33m.\u001b[0m\u001b[0mkeras\u001b[0m\u001b[1;33m.\u001b[0m\u001b[0mengine\u001b[0m \u001b[1;32mimport\u001b[0m \u001b[0mtraining\u001b[0m \u001b[1;32mas\u001b[0m \u001b[0mtraining_lib\u001b[0m\u001b[1;33m\u001b[0m\u001b[1;33m\u001b[0m\u001b[0m\n\u001b[0m\u001b[0;32m     39\u001b[0m \u001b[1;32mfrom\u001b[0m \u001b[0mtensorflow\u001b[0m\u001b[1;33m.\u001b[0m\u001b[0mpython\u001b[0m\u001b[1;33m.\u001b[0m\u001b[0mkeras\u001b[0m\u001b[1;33m.\u001b[0m\u001b[0mengine\u001b[0m \u001b[1;32mimport\u001b[0m \u001b[0mtraining_utils\u001b[0m\u001b[1;33m\u001b[0m\u001b[1;33m\u001b[0m\u001b[0m\n\u001b[0;32m     40\u001b[0m \u001b[1;32mfrom\u001b[0m \u001b[0mtensorflow\u001b[0m\u001b[1;33m.\u001b[0m\u001b[0mpython\u001b[0m\u001b[1;33m.\u001b[0m\u001b[0mkeras\u001b[0m\u001b[1;33m.\u001b[0m\u001b[0msaving\u001b[0m\u001b[1;33m.\u001b[0m\u001b[0msaved_model\u001b[0m \u001b[1;32mimport\u001b[0m \u001b[0mnetwork_serialization\u001b[0m\u001b[1;33m\u001b[0m\u001b[1;33m\u001b[0m\u001b[0m\n",
      "\u001b[1;32m~\\anaconda3\\lib\\site-packages\\tensorflow\\python\\keras\\engine\\training.py\u001b[0m in \u001b[0;36m<module>\u001b[1;34m\u001b[0m\n\u001b[0;32m     51\u001b[0m \u001b[1;32mfrom\u001b[0m \u001b[0mtensorflow\u001b[0m\u001b[1;33m.\u001b[0m\u001b[0mpython\u001b[0m\u001b[1;33m.\u001b[0m\u001b[0mkeras\u001b[0m\u001b[1;33m.\u001b[0m\u001b[0mengine\u001b[0m \u001b[1;32mimport\u001b[0m \u001b[0mtraining_utils\u001b[0m\u001b[1;33m\u001b[0m\u001b[1;33m\u001b[0m\u001b[0m\n\u001b[0;32m     52\u001b[0m \u001b[1;32mfrom\u001b[0m \u001b[0mtensorflow\u001b[0m\u001b[1;33m.\u001b[0m\u001b[0mpython\u001b[0m\u001b[1;33m.\u001b[0m\u001b[0mkeras\u001b[0m\u001b[1;33m.\u001b[0m\u001b[0mmixed_precision\u001b[0m\u001b[1;33m.\u001b[0m\u001b[0mexperimental\u001b[0m \u001b[1;32mimport\u001b[0m \u001b[0mloss_scale_optimizer\u001b[0m \u001b[1;32mas\u001b[0m \u001b[0mlso\u001b[0m\u001b[1;33m\u001b[0m\u001b[1;33m\u001b[0m\u001b[0m\n\u001b[1;32m---> 53\u001b[1;33m \u001b[1;32mfrom\u001b[0m \u001b[0mtensorflow\u001b[0m\u001b[1;33m.\u001b[0m\u001b[0mpython\u001b[0m\u001b[1;33m.\u001b[0m\u001b[0mkeras\u001b[0m\u001b[1;33m.\u001b[0m\u001b[0msaving\u001b[0m \u001b[1;32mimport\u001b[0m \u001b[0mhdf5_format\u001b[0m\u001b[1;33m\u001b[0m\u001b[1;33m\u001b[0m\u001b[0m\n\u001b[0m\u001b[0;32m     54\u001b[0m \u001b[1;32mfrom\u001b[0m \u001b[0mtensorflow\u001b[0m\u001b[1;33m.\u001b[0m\u001b[0mpython\u001b[0m\u001b[1;33m.\u001b[0m\u001b[0mkeras\u001b[0m\u001b[1;33m.\u001b[0m\u001b[0msaving\u001b[0m \u001b[1;32mimport\u001b[0m \u001b[0msave\u001b[0m\u001b[1;33m\u001b[0m\u001b[1;33m\u001b[0m\u001b[0m\n\u001b[0;32m     55\u001b[0m \u001b[1;32mfrom\u001b[0m \u001b[0mtensorflow\u001b[0m\u001b[1;33m.\u001b[0m\u001b[0mpython\u001b[0m\u001b[1;33m.\u001b[0m\u001b[0mkeras\u001b[0m\u001b[1;33m.\u001b[0m\u001b[0msaving\u001b[0m\u001b[1;33m.\u001b[0m\u001b[0msaved_model\u001b[0m \u001b[1;32mimport\u001b[0m \u001b[0mmodel_serialization\u001b[0m\u001b[1;33m\u001b[0m\u001b[1;33m\u001b[0m\u001b[0m\n",
      "\u001b[1;32m~\\anaconda3\\lib\\site-packages\\tensorflow\\python\\keras\\saving\\hdf5_format.py\u001b[0m in \u001b[0;36m<module>\u001b[1;34m\u001b[0m\n\u001b[0;32m     39\u001b[0m \u001b[1;31m# pylint: disable=g-import-not-at-top\u001b[0m\u001b[1;33m\u001b[0m\u001b[1;33m\u001b[0m\u001b[1;33m\u001b[0m\u001b[0m\n\u001b[0;32m     40\u001b[0m \u001b[1;32mtry\u001b[0m\u001b[1;33m:\u001b[0m\u001b[1;33m\u001b[0m\u001b[1;33m\u001b[0m\u001b[0m\n\u001b[1;32m---> 41\u001b[1;33m   \u001b[1;32mimport\u001b[0m \u001b[0mh5py\u001b[0m\u001b[1;33m\u001b[0m\u001b[1;33m\u001b[0m\u001b[0m\n\u001b[0m\u001b[0;32m     42\u001b[0m   \u001b[0mHDF5_OBJECT_HEADER_LIMIT\u001b[0m \u001b[1;33m=\u001b[0m \u001b[1;36m64512\u001b[0m\u001b[1;33m\u001b[0m\u001b[1;33m\u001b[0m\u001b[0m\n\u001b[0;32m     43\u001b[0m \u001b[1;32mexcept\u001b[0m \u001b[0mImportError\u001b[0m\u001b[1;33m:\u001b[0m\u001b[1;33m\u001b[0m\u001b[1;33m\u001b[0m\u001b[0m\n",
      "\u001b[1;32m~\\anaconda3\\lib\\site-packages\\h5py\\__init__.py\u001b[0m in \u001b[0;36m<module>\u001b[1;34m\u001b[0m\n\u001b[0;32m     32\u001b[0m         \u001b[1;32mraise\u001b[0m\u001b[1;33m\u001b[0m\u001b[1;33m\u001b[0m\u001b[0m\n\u001b[0;32m     33\u001b[0m \u001b[1;33m\u001b[0m\u001b[0m\n\u001b[1;32m---> 34\u001b[1;33m \u001b[1;32mfrom\u001b[0m \u001b[1;33m.\u001b[0m \u001b[1;32mimport\u001b[0m \u001b[0mversion\u001b[0m\u001b[1;33m\u001b[0m\u001b[1;33m\u001b[0m\u001b[0m\n\u001b[0m\u001b[0;32m     35\u001b[0m \u001b[1;33m\u001b[0m\u001b[0m\n\u001b[0;32m     36\u001b[0m \u001b[1;32mif\u001b[0m \u001b[0mversion\u001b[0m\u001b[1;33m.\u001b[0m\u001b[0mhdf5_version_tuple\u001b[0m \u001b[1;33m!=\u001b[0m \u001b[0mversion\u001b[0m\u001b[1;33m.\u001b[0m\u001b[0mhdf5_built_version_tuple\u001b[0m\u001b[1;33m:\u001b[0m\u001b[1;33m\u001b[0m\u001b[1;33m\u001b[0m\u001b[0m\n",
      "\u001b[1;32m~\\anaconda3\\lib\\site-packages\\h5py\\version.py\u001b[0m in \u001b[0;36m<module>\u001b[1;34m\u001b[0m\n\u001b[0;32m     15\u001b[0m \u001b[1;33m\u001b[0m\u001b[0m\n\u001b[0;32m     16\u001b[0m \u001b[1;32mfrom\u001b[0m \u001b[0mcollections\u001b[0m \u001b[1;32mimport\u001b[0m \u001b[0mnamedtuple\u001b[0m\u001b[1;33m\u001b[0m\u001b[1;33m\u001b[0m\u001b[0m\n\u001b[1;32m---> 17\u001b[1;33m \u001b[1;32mfrom\u001b[0m \u001b[1;33m.\u001b[0m \u001b[1;32mimport\u001b[0m \u001b[0mh5\u001b[0m \u001b[1;32mas\u001b[0m \u001b[0m_h5\u001b[0m\u001b[1;33m\u001b[0m\u001b[1;33m\u001b[0m\u001b[0m\n\u001b[0m\u001b[0;32m     18\u001b[0m \u001b[1;32mimport\u001b[0m \u001b[0msys\u001b[0m\u001b[1;33m\u001b[0m\u001b[1;33m\u001b[0m\u001b[0m\n\u001b[0;32m     19\u001b[0m \u001b[1;32mimport\u001b[0m \u001b[0mnumpy\u001b[0m\u001b[1;33m\u001b[0m\u001b[1;33m\u001b[0m\u001b[0m\n",
      "\u001b[1;32mh5py\\h5.pyx\u001b[0m in \u001b[0;36minit h5py.h5\u001b[1;34m()\u001b[0m\n",
      "\u001b[1;31mAttributeError\u001b[0m: type object 'h5py.h5.H5PYConfig' has no attribute '__reduce_cython__'"
     ]
    }
   ],
   "source": [
    "obs = [qml.PauliX(0), qml.PauliY(0), qml.PauliZ(0)]\n",
    "\n",
    "bloch_vector_real = qml.map(real, obs, dev, interface=\"tf\")\n",
    "bloch_vector_generator = qml.map(generator, obs, dev, interface=\"tf\")\n",
    "\n",
    "print(\"Real Bloch vector: {}\".format(bloch_vector_real([phi, theta, omega])))\n",
    "print(\"Generator Bloch vector: {}\".format(bloch_vector_generator(gen_weights)))"
   ]
  },
  {
   "cell_type": "code",
   "execution_count": null,
   "metadata": {},
   "outputs": [],
   "source": []
  },
  {
   "cell_type": "code",
   "execution_count": null,
   "metadata": {},
   "outputs": [],
   "source": []
  }
 ],
 "metadata": {
  "interpreter": {
   "hash": "c21febf07bb926d756abc73e0ffe94adc8f3b68902c70b9492849c2e69b87fda"
  },
  "kernelspec": {
   "display_name": "Python 3.8.5 64-bit ('base': conda)",
   "name": "python3"
  },
  "language_info": {
   "codemirror_mode": {
    "name": "ipython",
    "version": 3
   },
   "file_extension": ".py",
   "mimetype": "text/x-python",
   "name": "python",
   "nbconvert_exporter": "python",
   "pygments_lexer": "ipython3",
   "version": "3.8.5"
  }
 },
 "nbformat": 4,
 "nbformat_minor": 1
}
