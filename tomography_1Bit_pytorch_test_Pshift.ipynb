{
 "cells": [
  {
   "cell_type": "code",
   "execution_count": 1,
   "id": "670eeed9",
   "metadata": {},
   "outputs": [
    {
     "name": "stderr",
     "output_type": "stream",
     "text": [
      "2021-11-18 15:27:17.541663: W tensorflow/stream_executor/platform/default/dso_loader.cc:64] Could not load dynamic library 'libcudart.so.11.0'; dlerror: libcudart.so.11.0: cannot open shared object file: No such file or directory\n",
      "2021-11-18 15:27:17.541694: I tensorflow/stream_executor/cuda/cudart_stub.cc:29] Ignore above cudart dlerror if you do not have a GPU set up on your machine.\n"
     ]
    }
   ],
   "source": [
    "import pennylane as qml\n",
    "import numpy as np\n",
    "import tensorflow as tf\n",
    "import cirq\n",
    "\n",
    "import optim\n",
    "import torch as torch"
   ]
  },
  {
   "cell_type": "markdown",
   "id": "0d60685f",
   "metadata": {},
   "source": [
    "Any computational object that can apply quantum operations and return a measurement value is called a quantum device.\n",
    "\n",
    "In PennyLane, a device could be a hardware device (such as the IBM QX4, via the PennyLane-PQ plugin), or a software simulator (such as Strawberry Fields, via the PennyLane-SF plugin).\n"
   ]
  },
  {
   "cell_type": "code",
   "execution_count": 2,
   "id": "8faf5c61",
   "metadata": {},
   "outputs": [],
   "source": [
    "dev = qml.device('cirq.simulator', wires=1)"
   ]
  },
  {
   "cell_type": "markdown",
   "id": "91250e57",
   "metadata": {},
   "source": [
    "Unitary = arbitrary rotation\n"
   ]
  },
  {
   "cell_type": "code",
   "execution_count": 3,
   "id": "ea5e74f9",
   "metadata": {},
   "outputs": [],
   "source": [
    "phi = np.pi / 6\n",
    "theta = np.pi / 2\n",
    "omega = np.pi / 7\n",
    "##phi = 0\n",
    "##theta = 0\n",
    "##omega = 0\n",
    "angles = [phi,theta,omega]\n",
    "\n",
    "def real(angles, **kwargs):\n",
    "    qml.Rot(*angles, wires=0)\n",
    "        "
   ]
  },
  {
   "cell_type": "markdown",
   "id": "5a2dd0dd",
   "metadata": {},
   "source": [
    "Generator"
   ]
  },
  {
   "cell_type": "code",
   "execution_count": 4,
   "id": "093c69c2",
   "metadata": {},
   "outputs": [],
   "source": [
    "def generator(w, **kwargs):\n",
    "    qml.RZ(w[0], wires=0)\n",
    "    qml.RY(w[1], wires=0)\n",
    "    qml.RZ(w[2], wires=0)"
   ]
  },
  {
   "cell_type": "markdown",
   "id": "b44417ac",
   "metadata": {},
   "source": [
    "Discriminators: DI chooses the input, DO is standard\n"
   ]
  },
  {
   "cell_type": "code",
   "execution_count": 5,
   "id": "3cdebb56",
   "metadata": {},
   "outputs": [],
   "source": [
    "def DI(w):\n",
    "    qml.RX(w[0], wires=0)\n",
    "    qml.RY(w[1], wires=0)\n",
    "    qml.RZ(w[2], wires=0)\n",
    "\n",
    "def DO(w):\n",
    "    qml.RZ(w[0], wires=0)\n",
    "    qml.RY(w[1], wires=0)\n",
    "    qml.RZ(w[2], wires=0)\n"
   ]
  },
  {
   "cell_type": "markdown",
   "id": "2dd4b514",
   "metadata": {},
   "source": [
    "2 nodes:  1 for data-discriminator\n",
    "          1 for generator-discriminator\n",
    "          "
   ]
  },
  {
   "cell_type": "code",
   "execution_count": 6,
   "id": "181600d8",
   "metadata": {},
   "outputs": [],
   "source": [
    "@qml.qnode(dev, interface=\"tf\", diff_method=\"parameter-shift\")\n",
    "def real_disc_circuit(angles, disc_weights):\n",
    "    #DI(disc_weights[9:18])\n",
    "    real(angles)\n",
    "    DO(disc_weights)\n",
    "    return qml.expval(qml.PauliZ(0))\n",
    "\n",
    "@qml.gradients.param_shift\n",
    "@qml.qnode(dev)\n",
    "def real_disc_circuit_gradient(disc_weights):\n",
    "    #DI(disc_weights[9:18])\n",
    "    real(angles)\n",
    "    DO(disc_weights)\n",
    "    return qml.expval(qml.PauliZ(0))\n",
    "\n",
    "\n",
    "@qml.qnode(dev, interface=\"tf\", diff_method=\"parameter-shift\")\n",
    "def gen_disc_circuit(gen_weights, disc_weights):\n",
    "    #DI(disc_weights[9:18])\n",
    "    generator(gen_weights)\n",
    "    DO(disc_weights)\n",
    "    return qml.expval(qml.PauliZ(0))\n",
    "\n",
    "@qml.gradients.param_shift\n",
    "@qml.qnode(dev)\n",
    "def gen_disc_circuit_gradient_disc(disc_weights):\n",
    "    #DI(disc_weights[9:18])\n",
    "    generator(gen_weights)\n",
    "    DO(disc_weights)\n",
    "    return qml.expval(qml.PauliZ(0))\n",
    "\n",
    "@qml.gradients.param_shift\n",
    "@qml.qnode(dev)\n",
    "def gen_disc_circuit_gradient_gen(gen_weights):\n",
    "    #DI(disc_weights[9:18])\n",
    "    generator(gen_weights)\n",
    "    DO(disc_weights)\n",
    "    return qml.expval(qml.PauliZ(0))\n"
   ]
  },
  {
   "cell_type": "markdown",
   "id": "91aa84a5",
   "metadata": {},
   "source": [
    "Cost Functions"
   ]
  },
  {
   "cell_type": "code",
   "execution_count": 7,
   "id": "59d8bbb5",
   "metadata": {},
   "outputs": [],
   "source": [
    "def prob_real_true(disc_weights):\n",
    "    true_disc_output = real_disc_circuit(angles, disc_weights)\n",
    "    \n",
    "    # convert to probability\n",
    "    prob_real_true = (true_disc_output + 1) / 2\n",
    "    return prob_real_true\n",
    "\n",
    "\n",
    "def prob_fake_true(gen_weights, disc_weights):\n",
    "    \n",
    "    fake_disc_output = gen_disc_circuit(gen_weights, disc_weights)\n",
    "    # convert to probability\n",
    "    prob_fake_true = (fake_disc_output + 1) / 2\n",
    "    return prob_fake_true\n",
    "\n",
    "\n",
    "def disc_cost(disc_weights, gen_weights):\n",
    "    cost = prob_fake_true(gen_weights, disc_weights) - prob_real_true(disc_weights)\n",
    "    return cost\n",
    "\n",
    "\n",
    "def gen_cost(disc_weights, gen_weights):\n",
    "    return -prob_fake_true(gen_weights, disc_weights)"
   ]
  },
  {
   "cell_type": "markdown",
   "id": "c8176e0c",
   "metadata": {},
   "source": [
    "Training Initialization:"
   ]
  },
  {
   "cell_type": "code",
   "execution_count": 8,
   "id": "253255bf",
   "metadata": {},
   "outputs": [],
   "source": [
    "phi = np.pi / 6\n",
    "theta = np.pi / 2\n",
    "omega = np.pi / 7\n",
    "np.random.seed(0)\n",
    "eps = 1e-2\n",
    "init_gen_weights = np.array([np.pi] + [0] * 2) + \\\n",
    "                   np.random.normal(scale=eps, size=(3,))\n",
    "init_disc_weights = np.random.normal(size=(3,))\n",
    "\n",
    "gen_weights_grad  = torch.tensor(init_gen_weights, requires_grad=True)\n",
    "disc_weights_grad = torch.tensor(init_disc_weights, requires_grad=True)"
   ]
  },
  {
   "cell_type": "markdown",
   "id": "31d31d7a",
   "metadata": {},
   "source": [
    "Running training"
   ]
  },
  {
   "cell_type": "code",
   "execution_count": 12,
   "id": "79ae3e3d",
   "metadata": {},
   "outputs": [
    {
     "name": "stdout",
     "output_type": "stream",
     "text": [
      "step :  4  discriminator cost :  -0.04048484191298485\n",
      "step :  9  discriminator cost :  -0.30429197278863285\n",
      "step :  14  discriminator cost :  -0.47977737337350845\n",
      "step :  19  discriminator cost :  -0.5457204058766365\n",
      "step :  24  discriminator cost :  -0.5436265617609024\n",
      "step :  29  discriminator cost :  -0.5325895249843597\n",
      "step :  34  discriminator cost :  -0.5352065861225128\n",
      "step :  39  discriminator cost :  -0.5439396575093269\n",
      "step :  44  discriminator cost :  -0.5488293915987015\n",
      "step :  49  discriminator cost :  -0.5490947440266609\n",
      "step :  54  discriminator cost :  -0.5484528839588165\n",
      "step :  59  discriminator cost :  -0.5486622378230095\n",
      "step :  64  discriminator cost :  -0.5491490140557289\n",
      "step :  69  discriminator cost :  -0.5493121147155762\n",
      "step :  74  discriminator cost :  -0.5492716431617737\n",
      "step :  79  discriminator cost :  -0.5492625460028648\n",
      "step :  84  discriminator cost :  -0.5492959022521973\n",
      "step :  89  discriminator cost :  -0.5493119359016418\n",
      "step :  94  discriminator cost :  -0.5493097677826881\n",
      "step :  99  discriminator cost :  -0.5493088066577911\n",
      "discriminator trained\n",
      "step :  4  discriminator cost :  -0.5398141592741013\n",
      "step :  9  discriminator cost :  -0.7793552353978157\n",
      "step :  14  discriminator cost :  -0.9379423130303621\n",
      "step :  19  discriminator cost :  -0.9969446718459949\n",
      "end of cycle number :  1\n",
      "step :  4  discriminator cost :  -0.046328892931342125\n",
      "step :  9  discriminator cost :  -0.24673509923741221\n",
      "step :  14  discriminator cost :  -0.3762270100414753\n",
      "step :  19  discriminator cost :  -0.42196159064769745\n",
      "step :  24  discriminator cost :  -0.41861116141080856\n",
      "step :  29  discriminator cost :  -0.4107058197259903\n",
      "step :  34  discriminator cost :  -0.4134074077010155\n",
      "step :  39  discriminator cost :  -0.4200897887349129\n",
      "step :  44  discriminator cost :  -0.42349259555339813\n",
      "step :  49  discriminator cost :  -0.42352116107940674\n",
      "step :  54  discriminator cost :  -0.4230659306049347\n",
      "step :  59  discriminator cost :  -0.4232792258262634\n",
      "step :  64  discriminator cost :  -0.4236425310373306\n",
      "step :  69  discriminator cost :  -0.42374297976493835\n",
      "step :  74  discriminator cost :  -0.4237082451581955\n",
      "step :  79  discriminator cost :  -0.4237070679664612\n",
      "step :  84  discriminator cost :  -0.4237331449985504\n",
      "step :  89  discriminator cost :  -0.42374344170093536\n",
      "step :  94  discriminator cost :  -0.4237411320209503\n",
      "step :  99  discriminator cost :  -0.42374084889888763\n",
      "discriminator trained\n",
      "step :  4  discriminator cost :  -0.6105376332998276\n",
      "step :  9  discriminator cost :  -0.8335408121347427\n",
      "step :  14  discriminator cost :  -0.9638340566307306\n",
      "step :  19  discriminator cost :  -0.9998706907063024\n",
      "end of cycle number :  2\n",
      "step :  4  discriminator cost :  -0.042943550273776054\n",
      "step :  9  discriminator cost :  -0.29457173286937177\n",
      "step :  14  discriminator cost :  -0.46088654175400734\n",
      "step :  19  discriminator cost :  -0.5225539803504944\n",
      "step :  24  discriminator cost :  -0.5200475677847862\n",
      "step :  29  discriminator cost :  -0.5096448361873627\n",
      "step :  34  discriminator cost :  -0.5123408883810043\n",
      "step :  39  discriminator cost :  -0.5206880643963814\n",
      "step :  44  discriminator cost :  -0.5252664759755135\n",
      "step :  49  discriminator cost :  -0.5254697874188423\n",
      "step :  54  discriminator cost :  -0.5248653888702393\n",
      "step :  59  discriminator cost :  -0.5250802263617516\n",
      "step :  64  discriminator cost :  -0.5255430340766907\n",
      "step :  69  discriminator cost :  -0.5256923213601112\n",
      "step :  74  discriminator cost :  -0.5256522074341774\n",
      "step :  79  discriminator cost :  -0.5256453454494476\n",
      "step :  84  discriminator cost :  -0.5256773605942726\n",
      "step :  89  discriminator cost :  -0.5256922170519829\n",
      "step :  94  discriminator cost :  -0.5256899297237396\n",
      "step :  99  discriminator cost :  -0.5256890952587128\n",
      "discriminator trained\n",
      "step :  4  discriminator cost :  -0.5538563877344131\n",
      "step :  9  discriminator cost :  -0.7905072644352913\n",
      "step :  14  discriminator cost :  -0.9436213728040457\n",
      "step :  19  discriminator cost :  -0.9978524011094123\n",
      "end of cycle number :  3\n",
      "step :  4  discriminator cost :  -0.04657747782766819\n",
      "step :  9  discriminator cost :  -0.2571994278114289\n",
      "step :  14  discriminator cost :  -0.3938066326081753\n",
      "step :  19  discriminator cost :  -0.4424540027976036\n",
      "step :  24  discriminator cost :  -0.4391608312726021\n",
      "step :  29  discriminator cost :  -0.4307830333709717\n",
      "step :  34  discriminator cost :  -0.4335263520479202\n",
      "step :  39  discriminator cost :  -0.44054490327835083\n",
      "step :  44  discriminator cost :  -0.4441639631986618\n",
      "step :  49  discriminator cost :  -0.4442165642976761\n",
      "step :  54  discriminator cost :  -0.44373294711112976\n",
      "step :  59  discriminator cost :  -0.44394998252391815\n",
      "step :  64  discriminator cost :  -0.44433291256427765\n",
      "step :  69  discriminator cost :  -0.4444417953491211\n",
      "step :  74  discriminator cost :  -0.44440552592277527\n",
      "step :  79  discriminator cost :  -0.4444035440683365\n",
      "step :  84  discriminator cost :  -0.44443099200725555\n",
      "step :  89  discriminator cost :  -0.4444419592618942\n",
      "step :  94  discriminator cost :  -0.44443973898887634\n",
      "step :  99  discriminator cost :  -0.4444393962621689\n",
      "discriminator trained\n",
      "step :  4  discriminator cost :  -0.5996358841657639\n",
      "step :  9  discriminator cost :  -0.825513057410717\n",
      "step :  14  discriminator cost :  -0.9602828547358513\n",
      "step :  19  discriminator cost :  -0.9996775976323988\n",
      "end of cycle number :  4\n",
      "step :  4  discriminator cost :  -0.04449161887168884\n",
      "step :  9  discriminator cost :  -0.28815568337449804\n",
      "step :  14  discriminator cost :  -0.4484914764761925\n",
      "step :  19  discriminator cost :  -0.507387064397335\n",
      "step :  24  discriminator cost :  -0.5046246349811554\n",
      "step :  29  discriminator cost :  -0.49463776499032974\n",
      "step :  34  discriminator cost :  -0.4973820820450783\n",
      "step :  39  discriminator cost :  -0.5054753869771957\n",
      "step :  44  discriminator cost :  -0.5098509639501572\n",
      "step :  49  discriminator cost :  -0.510015144944191\n",
      "step :  54  discriminator cost :  -0.5094354078173637\n",
      "step :  59  discriminator cost :  -0.5096536502242088\n",
      "step :  64  discriminator cost :  -0.5101009830832481\n",
      "step :  69  discriminator cost :  -0.5102410465478897\n",
      "step :  74  discriminator cost :  -0.5102014467120171\n",
      "step :  79  discriminator cost :  -0.5101956427097321\n",
      "step :  84  discriminator cost :  -0.5102267786860466\n",
      "step :  89  discriminator cost :  -0.5102406740188599\n",
      "step :  94  discriminator cost :  -0.510238490998745\n",
      "step :  99  discriminator cost :  -0.5102376863360405\n",
      "discriminator trained\n",
      "step :  4  discriminator cost :  -0.563101127743721\n",
      "step :  9  discriminator cost :  -0.7977429628372192\n",
      "step :  14  discriminator cost :  -0.9472136795520782\n",
      "step :  19  discriminator cost :  -0.998358293203637\n",
      "end of cycle number :  5\n"
     ]
    }
   ],
   "source": [
    "N = 5     #Number of training cycles\n",
    "steps = 20 #Number of steps for generator training\n",
    "ratio = 5  #gen/disc training ratio\n",
    "\n",
    "for i in range (N):\n",
    "    \n",
    "    #training discriminator\n",
    "    gen_weights_non_grad = torch.tensor(gen_weights_grad.detach().numpy(), requires_grad = False)\n",
    "    opt = optim.OAdam([disc_weights_grad, gen_weights_non_grad], lr = 0.1)\n",
    "    \n",
    "    def closure():\n",
    "        opt.zero_grad()\n",
    "        loss = disc_cost(disc_weights_grad, gen_weights_non_grad)\n",
    "        loss.backward()\n",
    "        return loss\n",
    "\n",
    "    for j in range(steps*ratio):\n",
    "        opt.step(closure)\n",
    "        if (j+1)%5==0:\n",
    "            print('step : ',j, ' discriminator cost : ',disc_cost(disc_weights_grad, gen_weights_non_grad).item())\n",
    "    print('discriminator trained')\n",
    "    \n",
    "    #training generator\n",
    "    disc_weights_non_grad = torch.tensor(disc_weights_grad.detach().numpy(), requires_grad = False)\n",
    "    opt = optim.OAdam([disc_weights_non_grad, gen_weights_grad], lr = 0.1)\n",
    "\n",
    "    def closure():\n",
    "        opt.zero_grad()\n",
    "        loss = gen_cost(disc_weights_non_grad, gen_weights_grad)\n",
    "        loss.backward()\n",
    "        return loss\n",
    "\n",
    "    for j in range(steps):\n",
    "        opt.step(closure)\n",
    "        if (j+1)%5==0:\n",
    "            print('step : ',j, ' discriminator cost : ',gen_cost(disc_weights_non_grad, gen_weights_grad).item())\n",
    "        \n",
    "    print('end of cycle number : ', i+1)\n"
   ]
  },
  {
   "cell_type": "code",
   "execution_count": 14,
   "id": "da49841b",
   "metadata": {},
   "outputs": [
    {
     "name": "stdout",
     "output_type": "stream",
     "text": [
      "Prob(real classified as real):  0.7566307932138443\n"
     ]
    }
   ],
   "source": [
    "print(\"Prob(real classified as real): \", prob_real_true(disc_weights_grad).item())"
   ]
  },
  {
   "cell_type": "code",
   "execution_count": 15,
   "id": "6c5613a8",
   "metadata": {},
   "outputs": [
    {
     "name": "stdout",
     "output_type": "stream",
     "text": [
      "Prob(fake classified as real):  0.998358293203637\n"
     ]
    }
   ],
   "source": [
    "print(\"Prob(fake classified as real): \", prob_fake_true(gen_weights_grad, disc_weights_grad).item())\n"
   ]
  },
  {
   "cell_type": "markdown",
   "id": "3bc917ce",
   "metadata": {},
   "source": [
    "Comparing output for |0> and printing tthe rotation params of the generator:"
   ]
  },
  {
   "cell_type": "code",
   "execution_count": 16,
   "id": "8ce8af01",
   "metadata": {},
   "outputs": [
    {
     "name": "stdout",
     "output_type": "stream",
     "text": [
      "Real Bloch vector: [0.90096882 0.43388376 0.        ]\n",
      "Generator Bloch vector: [0.53594226 0.22606558 0.813425  ]\n"
     ]
    },
    {
     "name": "stderr",
     "output_type": "stream",
     "text": [
      "2021-11-11 17:02:32.937693: W tensorflow/stream_executor/platform/default/dso_loader.cc:64] Could not load dynamic library 'libcuda.so.1'; dlerror: libcuda.so.1: cannot open shared object file: No such file or directory\n",
      "2021-11-11 17:02:32.937763: W tensorflow/stream_executor/cuda/cuda_driver.cc:269] failed call to cuInit: UNKNOWN ERROR (303)\n",
      "2021-11-11 17:02:32.937818: I tensorflow/stream_executor/cuda/cuda_diagnostics.cc:156] kernel driver does not appear to be running on this host (Hazelnut2): /proc/driver/nvidia/version does not exist\n",
      "2021-11-11 17:02:32.939148: I tensorflow/core/platform/cpu_feature_guard.cc:142] This TensorFlow binary is optimized with oneAPI Deep Neural Network Library (oneDNN) to use the following CPU instructions in performance-critical operations:  AVX2 FMA\n",
      "To enable them in other operations, rebuild TensorFlow with the appropriate compiler flags.\n"
     ]
    }
   ],
   "source": [
    "obs = [qml.PauliX(0), qml.PauliY(0), qml.PauliZ(0)]\n",
    "\n",
    "bloch_vector_real = qml.map(real, obs, dev, interface=\"tf\")\n",
    "bloch_vector_generator = qml.map(generator, obs, dev, interface=\"tf\")\n",
    "\n",
    "print(\"Real Bloch vector: {}\".format(bloch_vector_real([phi, theta, omega])))\n",
    "print(\"Generator Bloch vector: {}\".format(bloch_vector_generator(gen_weights_grad.detach().numpy())))\n"
   ]
  }
 ],
 "metadata": {
  "kernelspec": {
   "display_name": "QML",
   "language": "python",
   "name": "qml"
  },
  "language_info": {
   "codemirror_mode": {
    "name": "ipython",
    "version": 3
   },
   "file_extension": ".py",
   "mimetype": "text/x-python",
   "name": "python",
   "nbconvert_exporter": "python",
   "pygments_lexer": "ipython3",
   "version": "3.9.7"
  }
 },
 "nbformat": 4,
 "nbformat_minor": 5
}
