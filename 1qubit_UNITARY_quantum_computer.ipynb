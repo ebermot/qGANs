{
 "cells": [
  {
   "cell_type": "code",
   "execution_count": 1,
   "metadata": {},
   "outputs": [
    {
     "name": "stderr",
     "output_type": "stream",
     "text": [
      "C:\\Users\\eberm\\anaconda3\\lib\\site-packages\\qiskit\\providers\\aer\\aerprovider.py:30: DeprecationWarning: The BaseProvider abstract interface is deprecated as of the 0.18.0 release and will be removed in a future release. Instead you should build your backends using the ProviderV1 abstract class (which is the current latest version of the provider interface).\n",
      "  super().__init__(args, kwargs)\n"
     ]
    }
   ],
   "source": [
    "import pennylane as qml\n",
    "from pennylane import numpy as np\n",
    "#import tensorflow as tf\n",
    "import qutip as qt\n",
    "import os\n",
    "os.environ['KMP_DUPLICATE_LIB_OK']='True'\n",
    "from matplotlib import pyplot as plt\n",
    "from qiskit import IBMQ\n",
    "\n",
    "from qiskit.providers.aer import noise"
   ]
  },
  {
   "cell_type": "code",
   "execution_count": 3,
   "metadata": {},
   "outputs": [],
   "source": [
    "#dev = qml.device('default.qubit', wires=2)\n",
    "#dev=qml.device('qiskit.ibmq', wires=2, backend='ibmq_16_melbourne', provider=provider)\n",
    "#dev=qml.device('qiskit.aer',wires=2)\n",
    "#IBMQ.load_account()\n",
    "#provider = IBMQ.get_provider(group='open')\n",
    "#ibmq_quito = provider.get_backend('ibmq_quito')\n",
    "#device_properties = ibmq_quito.properties()\n",
    "\n",
    "dev = qml.device('qiskit.ibmq', wires=2, backend='ibmq_quito', ibmqx_token=\"0af8e598333ba3148c9bafef00631a8283a1b6c9772fe07f83ee36a52f65b70440e8f1bf3ef5b4d7a25c471af3b9d3ef377a5edc53d1cdbf6f5ad23b4d0145b3\")\n",
    "#noise_model = noise.NoiseModel.from_backend(dev.backend.properties())\n",
    "#print(noise_model)\n",
    "\n",
    "#dev_noisy = qml.device(\"qiskit.basicaer\", wires=2, backend='statevector_simulator')"
   ]
  },
  {
   "cell_type": "code",
   "execution_count": 4,
   "metadata": {},
   "outputs": [
    {
     "name": "stdout",
     "output_type": "stream",
     "text": [
      "None\n"
     ]
    }
   ],
   "source": [
    "print(dev.backend.properties())"
   ]
  },
  {
   "cell_type": "code",
   "execution_count": 5,
   "metadata": {},
   "outputs": [
    {
     "data": {
      "text/plain": [
       "['qasm_simulator', 'statevector_simulator', 'unitary_simulator']"
      ]
     },
     "execution_count": 5,
     "metadata": {},
     "output_type": "execute_result"
    }
   ],
   "source": [
    "dev.capabilities()['backend']"
   ]
  },
  {
   "cell_type": "code",
   "execution_count": 6,
   "metadata": {},
   "outputs": [],
   "source": [
    "def U1(w,wire):\n",
    "    qml.RZ(w[0],wires = [wire])\n",
    "    qml.RX(w[1],wires = [wire])\n",
    "    qml.RZ(w[2],wires = [wire])\n",
    "\n",
    "def U2(w,wire1,wire2):\n",
    "    U1(w[0:3], wire1)\n",
    "    U1(w[3:6], wire2)\n",
    "    qml.CNOT(wires = [wire2,wire1])\n",
    "    qml.RZ(w[6],wires = [wire1])\n",
    "    qml.RY(w[7],wires = [wire2])\n",
    "    qml.CNOT(wires = [wire1,wire2])\n",
    "    qml.RY(w[8],wires = [wire2])\n",
    "    qml.CNOT(wires = [wire2,wire1])\n",
    "    U1(w[9:12], wire1)\n",
    "    U1(w[12:15],wire2)\n",
    "    \n",
    "def D_I(w):\n",
    "    U1(w,0)\n",
    "    \n",
    "def G(w):\n",
    "    U1(w,0)\n",
    "\n",
    "\n",
    "def D_M(w):\n",
    "    U2(w,0,1)\n",
    "    \n",
    "#use same structure as for generator    \n",
    "def R(w):\n",
    "    U1(w,0)"
   ]
  },
  {
   "cell_type": "code",
   "execution_count": 7,
   "metadata": {},
   "outputs": [],
   "source": [
    "@qml.qnode(dev, diff_method=\"parameter-shift\")\n",
    "def real_disc_circuit(real_params, disc_weights):\n",
    "    D_I(disc_weights[0:3])\n",
    "    R(real_params)\n",
    "    D_M(disc_weights[3:18])\n",
    "    return qml.expval(qml.PauliZ(1))\n",
    "\n",
    "@qml.qnode(dev, diff_method=\"parameter-shift\")\n",
    "def gen_disc_circuit(gen_weights, disc_weights):\n",
    "    D_I(disc_weights[0:3])\n",
    "    G(gen_weights)\n",
    "    D_M(disc_weights[3:18])\n",
    "    return qml.expval(qml.PauliZ(1))\n",
    "\n",
    "\n",
    "@qml.gradients.param_shift\n",
    "@qml.qnode(dev)\n",
    "def real_disc_circuit_gradient(disc_weights):\n",
    "    D_I(disc_weights[0:3])\n",
    "    R(real_params)\n",
    "    D_M(disc_weights[3:18])\n",
    "    return qml.expval(qml.PauliZ(1))\n",
    "\n",
    "\n",
    "\n",
    "@qml.gradients.param_shift\n",
    "@qml.qnode(dev)\n",
    "def gen_disc_circuit_gradient_disc(disc_weights):\n",
    "    D_I(disc_weights[0:3])\n",
    "    G(gen_weights)\n",
    "    D_M(disc_weights[3:18])\n",
    "    return qml.expval(qml.PauliZ(1))\n",
    "\n",
    "@qml.gradients.param_shift\n",
    "@qml.qnode(dev)\n",
    "def gen_disc_circuit_gradient_gen(gen_weights):\n",
    "    D_I(disc_weights[0:3])\n",
    "    G(gen_weights)\n",
    "    D_M(disc_weights[3:18])\n",
    "    return qml.expval(qml.PauliZ(1))"
   ]
  },
  {
   "cell_type": "code",
   "execution_count": 8,
   "metadata": {},
   "outputs": [],
   "source": [
    "def prob_real_true(disc_weights):\n",
    "    true_disc_output = real_disc_circuit(real_params, disc_weights)\n",
    "    # convert to probability\n",
    "    prob_real_true = (true_disc_output + 1) / 2\n",
    "    return prob_real_true\n",
    "\n",
    "\n",
    "def prob_fake_true(gen_weights, disc_weights):\n",
    "    fake_disc_output = gen_disc_circuit(gen_weights, disc_weights)\n",
    "    # convert to probability\n",
    "    prob_fake_true = (fake_disc_output + 1) / 2\n",
    "    return prob_fake_true\n",
    "\n",
    "\n",
    "def disc_cost(disc_weights):\n",
    "    cost = prob_fake_true(gen_weights, disc_weights) - prob_real_true(disc_weights)\n",
    "    return cost\n",
    "\n",
    "\n",
    "def gen_cost(gen_weights):\n",
    "    cost = -prob_fake_true(gen_weights, disc_weights)\n",
    "    return cost"
   ]
  },
  {
   "cell_type": "code",
   "execution_count": 9,
   "metadata": {},
   "outputs": [],
   "source": [
    "np.random.seed(1)\n",
    "real_params = np.random.uniform(low=-np.pi, high=np.pi, size=3)\n",
    "\n",
    "np.random.seed(17)\n",
    "init_gen_weights = np.random.uniform(low=-np.pi, high=np.pi, size=3)\n",
    "\n",
    "np.random.seed(15)\n",
    "init_disc_weights = np.random.uniform(low=-np.pi, high=np.pi, size=18)\n",
    "\n",
    "gen_weights=np.array(list(init_gen_weights), requires_grad=False)\n",
    "\n",
    "disc_weights=np.array(list(init_disc_weights), requires_grad=True)"
   ]
  },
  {
   "cell_type": "code",
   "execution_count": 10,
   "metadata": {},
   "outputs": [],
   "source": [
    "opt1=qml.GradientDescentOptimizer(stepsize=0.05)\n",
    "opt2=qml.GradientDescentOptimizer(stepsize=0.05)"
   ]
  },
  {
   "cell_type": "markdown",
   "metadata": {},
   "source": [
    "Metrics for the operators. (since it's 1 qubit space I'm computing the Hilbert Schmidt norm manually)"
   ]
  },
  {
   "cell_type": "code",
   "execution_count": 11,
   "metadata": {},
   "outputs": [],
   "source": [
    "dev_state = qml.device('default.qubit', wires=1)\n",
    "#dev_state = qml.device('qiskit.ibmq', wires=1, backend='ibmq_bogota', ibmqx_token=\"0af8e598333ba3148c9bafef00631a8283a1b6c9772fe07f83ee36a52f65b70440e8f1bf3ef5b4d7a25c471af3b9d3ef377a5edc53d1cdbf6f5ad23b4d0145b3\")\n",
    "\n",
    "@qml.qnode(dev_state)\n",
    "def real_0_circuit(real_params):\n",
    "    R(real_params)\n",
    "    return qml.state()\n",
    "\n",
    "@qml.qnode(dev_state)\n",
    "def real_1_circuit(real_params):\n",
    "    qml.PauliX(0)\n",
    "    R(real_params)\n",
    "    return qml.state()\n",
    "\n",
    "@qml.qnode(dev_state)\n",
    "def gen_0_circuit(gen_weights):\n",
    "    G(gen_weights)\n",
    "    return qml.state()\n",
    "\n",
    "@qml.qnode(dev_state)\n",
    "def gen_1_circuit(gen_weights):\n",
    "    qml.PauliX(0)\n",
    "    G(gen_weights)\n",
    "    return qml.state()"
   ]
  },
  {
   "cell_type": "code",
   "execution_count": 12,
   "metadata": {},
   "outputs": [],
   "source": [
    "def Hilbert_Schmidt(real_params, gen_weights):\n",
    "    ψ_R0 = qt.Qobj(real_0_circuit(real_params).numpy())\n",
    "    ψ_G0 = qt.Qobj(gen_0_circuit(gen_weights).numpy())\n",
    "    \n",
    "    ψ_R1 = qt.Qobj(real_1_circuit(real_params).numpy())\n",
    "    ψ_G1 = qt.Qobj(gen_1_circuit(gen_weights).numpy())\n",
    "    \n",
    "    diff_0 = ψ_R0-ψ_G0\n",
    "    diff_1 = ψ_R1-ψ_G1\n",
    "    \n",
    "    norm = (diff_0).norm()+(diff_1).norm()\n",
    "    \n",
    "    return np.sqrt(norm)"
   ]
  },
  {
   "cell_type": "code",
   "execution_count": 16,
   "metadata": {},
   "outputs": [
    {
     "name": "stdout",
     "output_type": "stream",
     "text": [
      "Begin 0 discriminator optimization\n",
      "gen_weights [-1.29015784  0.19218225 -1.93823206]\n",
      "disc_weights [ 2.19168623 -2.01755641 -2.8000185  -0.8699796  -1.41119759  0.18849697\n",
      " -1.21944742 -1.22852383 -2.43950151 -1.57143084  2.62404604 -1.48190903\n",
      "  1.36831243  2.29785533  1.92943729 -1.81866433 -2.0907737  -2.84812774]\n",
      "Before 0 disc gradient computation of 0 round of optimization\n",
      "grad_gen_circuit_disc [ 0.01367188  0.02246094 -0.26171875 -0.23339844 -0.03125     0.12109375\n",
      " -0.00488281 -0.42578125 -0.24707031  0.44628906  0.13378906 -0.50683594\n",
      "  0.          0.          0.         -0.28222656  0.30859375  0.00488281]\n",
      "grad_real_disc_circuit [-0.02441406  0.23242188 -0.21679688  0.125      -0.02539062  0.33691406\n",
      "  0.00195312 -0.51757812 -0.36132812  0.12207031  0.07519531 -0.41503906\n",
      "  0.          0.          0.         -0.11425781  0.48632812  0.        ]\n",
      "After0 disc gradient computation of 0 round of optimization\n",
      "After0 disc opt update of 0 round of optimization\n",
      "gen_weights [-1.29015784  0.19218225 -1.93823206]\n",
      "disc_weights [ 2.19110029 -2.00798609 -2.79542866 -0.85552648 -1.41241829  0.19772549\n",
      " -1.22086343 -1.23316251 -2.44457963 -1.58427264  2.6187726  -1.47741684\n",
      "  1.36831243  2.29785533  1.92943729 -1.81231667 -2.08393776 -2.84729766]\n",
      "Before 1 disc gradient computation of 0 round of optimization\n",
      "grad_gen_circuit_disc [ 0.01074219  0.02832031 -0.26074219 -0.20703125 -0.05078125  0.13378906\n",
      " -0.00683594 -0.46289062 -0.234375    0.45214844  0.1328125  -0.49414062\n",
      "  0.          0.          0.         -0.20996094  0.37988281  0.01367188]\n",
      "grad_real_disc_circuit [ 0.0078125   0.20605469 -0.23535156  0.11230469 -0.09277344  0.31933594\n",
      " -0.03027344 -0.56054688 -0.39550781  0.11523438  0.08203125 -0.47753906\n",
      "  0.          0.          0.         -0.17089844  0.49609375 -0.01464844]\n",
      "After1 disc gradient computation of 0 round of optimization\n",
      "After1 disc opt update of 0 round of optimization\n",
      "gen_weights [-1.29015784  0.19218225 -1.93823206]\n",
      "disc_weights [ 2.19080732 -2.00022242 -2.79122944 -0.83755773 -1.41378548  0.20627041\n",
      " -1.22203531 -1.2354086  -2.45141557 -1.59818865  2.61740541 -1.47365707\n",
      "  1.36831243  2.29785533  1.92943729 -1.80416237 -2.07710182 -2.84700469]\n",
      "Before 2 disc gradient computation of 0 round of optimization\n",
      "grad_gen_circuit_disc [ 0.02929688  0.04199219 -0.24414062 -0.20703125 -0.05566406  0.12207031\n",
      "  0.02734375 -0.43847656 -0.27050781  0.43457031  0.08007812 -0.52246094\n",
      "  0.          0.          0.         -0.30859375  0.30761719  0.00195312]\n",
      "grad_real_disc_circuit [ 0.03125     0.17578125 -0.20117188  0.09179688 -0.04101562  0.3046875\n",
      "  0.02734375 -0.50097656 -0.375       0.16503906  0.06933594 -0.45605469\n",
      "  0.          0.          0.         -0.14550781  0.47558594  0.00488281]\n",
      "After2 disc gradient computation of 0 round of optimization\n",
      "After2 disc opt update of 0 round of optimization\n",
      "gen_weights [-1.29015784  0.19218225 -1.93823206]\n",
      "disc_weights [ 2.19012373 -1.99153102 -2.78932514 -0.82124913 -1.4153968   0.21398525\n",
      " -1.22071695 -1.24034024 -2.45810502 -1.613716    2.61764955 -1.46906723\n",
      "  1.36831243  2.29785533  1.92943729 -1.79879128 -2.06884987 -2.84651641]\n",
      "Before 3 disc gradient computation of 0 round of optimization\n",
      "grad_gen_circuit_disc [ 0.00097656  0.03710938 -0.29394531 -0.23046875 -0.01757812  0.12011719\n",
      "  0.00097656 -0.47167969 -0.26953125  0.45703125  0.12890625 -0.5078125\n",
      "  0.          0.          0.         -0.27539062  0.34375     0.00390625]\n",
      "grad_real_disc_circuit [-0.00585938  0.19824219 -0.22753906  0.0859375  -0.07617188  0.33398438\n",
      "  0.00488281 -0.54980469 -0.37109375  0.15917969  0.09179688 -0.45214844\n",
      "  0.          0.          0.         -0.13476562  0.48046875 -0.02832031]\n"
     ]
    },
    {
     "ename": "KeyboardInterrupt",
     "evalue": "",
     "output_type": "error",
     "traceback": [
      "\u001b[1;31m---------------------------------------------------------------------------\u001b[0m",
      "\u001b[1;31mKeyboardInterrupt\u001b[0m                         Traceback (most recent call last)",
      "\u001b[1;32m~\\AppData\\Local\\Temp/ipykernel_52716/8229154.py\u001b[0m in \u001b[0;36m<module>\u001b[1;34m\u001b[0m\n\u001b[0;32m     23\u001b[0m         \u001b[0mprint\u001b[0m\u001b[1;33m(\u001b[0m\u001b[1;34m'grad_gen_circuit_disc'\u001b[0m\u001b[1;33m,\u001b[0m \u001b[0mgrad_gen_circuit_disc\u001b[0m\u001b[1;33m(\u001b[0m\u001b[0mgen_weights\u001b[0m\u001b[1;33m,\u001b[0m \u001b[0mdisc_weights\u001b[0m\u001b[1;33m)\u001b[0m\u001b[1;33m)\u001b[0m\u001b[1;33m\u001b[0m\u001b[1;33m\u001b[0m\u001b[0m\n\u001b[0;32m     24\u001b[0m         \u001b[0mprint\u001b[0m\u001b[1;33m(\u001b[0m\u001b[1;34m'grad_real_disc_circuit'\u001b[0m\u001b[1;33m,\u001b[0m \u001b[0mgrad_real_disc_circuit\u001b[0m\u001b[1;33m(\u001b[0m\u001b[0mreal_params\u001b[0m\u001b[1;33m,\u001b[0m \u001b[0mdisc_weights\u001b[0m\u001b[1;33m)\u001b[0m\u001b[1;33m)\u001b[0m\u001b[1;33m\u001b[0m\u001b[1;33m\u001b[0m\u001b[0m\n\u001b[1;32m---> 25\u001b[1;33m         \u001b[0mgrad_fn_disc\u001b[0m\u001b[1;33m=\u001b[0m\u001b[0mgrad_gen_circuit_disc\u001b[0m\u001b[1;33m(\u001b[0m\u001b[0mgen_weights\u001b[0m\u001b[1;33m,\u001b[0m \u001b[0mdisc_weights\u001b[0m\u001b[1;33m)\u001b[0m\u001b[1;33m-\u001b[0m\u001b[0mgrad_real_disc_circuit\u001b[0m\u001b[1;33m(\u001b[0m\u001b[0mreal_params\u001b[0m\u001b[1;33m,\u001b[0m \u001b[0mdisc_weights\u001b[0m\u001b[1;33m)\u001b[0m\u001b[1;33m\u001b[0m\u001b[1;33m\u001b[0m\u001b[0m\n\u001b[0m\u001b[0;32m     26\u001b[0m         \u001b[1;31m#print(\"grad_fn_disc\", grad_fn_disc)\u001b[0m\u001b[1;33m\u001b[0m\u001b[1;33m\u001b[0m\u001b[1;33m\u001b[0m\u001b[0m\n\u001b[0;32m     27\u001b[0m         \u001b[0mprint\u001b[0m\u001b[1;33m(\u001b[0m\u001b[1;34m\"After\"\u001b[0m\u001b[1;33m+\u001b[0m\u001b[0mstr\u001b[0m\u001b[1;33m(\u001b[0m\u001b[0mstep\u001b[0m\u001b[1;33m)\u001b[0m \u001b[1;33m+\u001b[0m \u001b[1;34m\" disc gradient computation of \"\u001b[0m\u001b[1;33m+\u001b[0m\u001b[0mstr\u001b[0m\u001b[1;33m(\u001b[0m\u001b[0mturn\u001b[0m\u001b[1;33m)\u001b[0m\u001b[1;33m+\u001b[0m \u001b[1;34m\" round of optimization\"\u001b[0m\u001b[1;33m)\u001b[0m\u001b[1;33m\u001b[0m\u001b[1;33m\u001b[0m\u001b[0m\n",
      "\u001b[1;32m~\\anaconda3\\lib\\site-packages\\pennylane\\_grad.py\u001b[0m in \u001b[0;36m__call__\u001b[1;34m(self, *args, **kwargs)\u001b[0m\n\u001b[0;32m    118\u001b[0m         \"\"\"Evaluates the gradient function, and saves the function value\n\u001b[0;32m    119\u001b[0m         calculated during the forward pass in :attr:`.forward`.\"\"\"\n\u001b[1;32m--> 120\u001b[1;33m         \u001b[0mgrad_value\u001b[0m\u001b[1;33m,\u001b[0m \u001b[0mans\u001b[0m \u001b[1;33m=\u001b[0m \u001b[0mself\u001b[0m\u001b[1;33m.\u001b[0m\u001b[0m_get_grad_fn\u001b[0m\u001b[1;33m(\u001b[0m\u001b[0margs\u001b[0m\u001b[1;33m)\u001b[0m\u001b[1;33m(\u001b[0m\u001b[1;33m*\u001b[0m\u001b[0margs\u001b[0m\u001b[1;33m,\u001b[0m \u001b[1;33m**\u001b[0m\u001b[0mkwargs\u001b[0m\u001b[1;33m)\u001b[0m\u001b[1;33m\u001b[0m\u001b[1;33m\u001b[0m\u001b[0m\n\u001b[0m\u001b[0;32m    121\u001b[0m         \u001b[0mself\u001b[0m\u001b[1;33m.\u001b[0m\u001b[0m_forward\u001b[0m \u001b[1;33m=\u001b[0m \u001b[0mans\u001b[0m\u001b[1;33m\u001b[0m\u001b[1;33m\u001b[0m\u001b[0m\n\u001b[0;32m    122\u001b[0m         \u001b[1;32mreturn\u001b[0m \u001b[0mgrad_value\u001b[0m\u001b[1;33m\u001b[0m\u001b[1;33m\u001b[0m\u001b[0m\n",
      "\u001b[1;32m~\\anaconda3\\lib\\site-packages\\autograd\\wrap_util.py\u001b[0m in \u001b[0;36mnary_f\u001b[1;34m(*args, **kwargs)\u001b[0m\n\u001b[0;32m     18\u001b[0m             \u001b[1;32melse\u001b[0m\u001b[1;33m:\u001b[0m\u001b[1;33m\u001b[0m\u001b[1;33m\u001b[0m\u001b[0m\n\u001b[0;32m     19\u001b[0m                 \u001b[0mx\u001b[0m \u001b[1;33m=\u001b[0m \u001b[0mtuple\u001b[0m\u001b[1;33m(\u001b[0m\u001b[0margs\u001b[0m\u001b[1;33m[\u001b[0m\u001b[0mi\u001b[0m\u001b[1;33m]\u001b[0m \u001b[1;32mfor\u001b[0m \u001b[0mi\u001b[0m \u001b[1;32min\u001b[0m \u001b[0margnum\u001b[0m\u001b[1;33m)\u001b[0m\u001b[1;33m\u001b[0m\u001b[1;33m\u001b[0m\u001b[0m\n\u001b[1;32m---> 20\u001b[1;33m             \u001b[1;32mreturn\u001b[0m \u001b[0munary_operator\u001b[0m\u001b[1;33m(\u001b[0m\u001b[0munary_f\u001b[0m\u001b[1;33m,\u001b[0m \u001b[0mx\u001b[0m\u001b[1;33m,\u001b[0m \u001b[1;33m*\u001b[0m\u001b[0mnary_op_args\u001b[0m\u001b[1;33m,\u001b[0m \u001b[1;33m**\u001b[0m\u001b[0mnary_op_kwargs\u001b[0m\u001b[1;33m)\u001b[0m\u001b[1;33m\u001b[0m\u001b[1;33m\u001b[0m\u001b[0m\n\u001b[0m\u001b[0;32m     21\u001b[0m         \u001b[1;32mreturn\u001b[0m \u001b[0mnary_f\u001b[0m\u001b[1;33m\u001b[0m\u001b[1;33m\u001b[0m\u001b[0m\n\u001b[0;32m     22\u001b[0m     \u001b[1;32mreturn\u001b[0m \u001b[0mnary_operator\u001b[0m\u001b[1;33m\u001b[0m\u001b[1;33m\u001b[0m\u001b[0m\n",
      "\u001b[1;32m~\\anaconda3\\lib\\site-packages\\pennylane\\_grad.py\u001b[0m in \u001b[0;36m_grad_with_forward\u001b[1;34m(fun, x)\u001b[0m\n\u001b[0;32m    143\u001b[0m             )\n\u001b[0;32m    144\u001b[0m \u001b[1;33m\u001b[0m\u001b[0m\n\u001b[1;32m--> 145\u001b[1;33m         \u001b[0mgrad_value\u001b[0m \u001b[1;33m=\u001b[0m \u001b[0mvjp\u001b[0m\u001b[1;33m(\u001b[0m\u001b[0mvspace\u001b[0m\u001b[1;33m(\u001b[0m\u001b[0mans\u001b[0m\u001b[1;33m)\u001b[0m\u001b[1;33m.\u001b[0m\u001b[0mones\u001b[0m\u001b[1;33m(\u001b[0m\u001b[1;33m)\u001b[0m\u001b[1;33m)\u001b[0m\u001b[1;33m\u001b[0m\u001b[1;33m\u001b[0m\u001b[0m\n\u001b[0m\u001b[0;32m    146\u001b[0m         \u001b[1;32mreturn\u001b[0m \u001b[0mgrad_value\u001b[0m\u001b[1;33m,\u001b[0m \u001b[0mans\u001b[0m\u001b[1;33m\u001b[0m\u001b[1;33m\u001b[0m\u001b[0m\n\u001b[0;32m    147\u001b[0m \u001b[1;33m\u001b[0m\u001b[0m\n",
      "\u001b[1;32m~\\anaconda3\\lib\\site-packages\\autograd\\core.py\u001b[0m in \u001b[0;36mvjp\u001b[1;34m(g)\u001b[0m\n\u001b[0;32m     12\u001b[0m         \u001b[1;32mdef\u001b[0m \u001b[0mvjp\u001b[0m\u001b[1;33m(\u001b[0m\u001b[0mg\u001b[0m\u001b[1;33m)\u001b[0m\u001b[1;33m:\u001b[0m \u001b[1;32mreturn\u001b[0m \u001b[0mvspace\u001b[0m\u001b[1;33m(\u001b[0m\u001b[0mx\u001b[0m\u001b[1;33m)\u001b[0m\u001b[1;33m.\u001b[0m\u001b[0mzeros\u001b[0m\u001b[1;33m(\u001b[0m\u001b[1;33m)\u001b[0m\u001b[1;33m\u001b[0m\u001b[1;33m\u001b[0m\u001b[0m\n\u001b[0;32m     13\u001b[0m     \u001b[1;32melse\u001b[0m\u001b[1;33m:\u001b[0m\u001b[1;33m\u001b[0m\u001b[1;33m\u001b[0m\u001b[0m\n\u001b[1;32m---> 14\u001b[1;33m         \u001b[1;32mdef\u001b[0m \u001b[0mvjp\u001b[0m\u001b[1;33m(\u001b[0m\u001b[0mg\u001b[0m\u001b[1;33m)\u001b[0m\u001b[1;33m:\u001b[0m \u001b[1;32mreturn\u001b[0m \u001b[0mbackward_pass\u001b[0m\u001b[1;33m(\u001b[0m\u001b[0mg\u001b[0m\u001b[1;33m,\u001b[0m \u001b[0mend_node\u001b[0m\u001b[1;33m)\u001b[0m\u001b[1;33m\u001b[0m\u001b[1;33m\u001b[0m\u001b[0m\n\u001b[0m\u001b[0;32m     15\u001b[0m     \u001b[1;32mreturn\u001b[0m \u001b[0mvjp\u001b[0m\u001b[1;33m,\u001b[0m \u001b[0mend_value\u001b[0m\u001b[1;33m\u001b[0m\u001b[1;33m\u001b[0m\u001b[0m\n\u001b[0;32m     16\u001b[0m \u001b[1;33m\u001b[0m\u001b[0m\n",
      "\u001b[1;32m~\\anaconda3\\lib\\site-packages\\autograd\\core.py\u001b[0m in \u001b[0;36mbackward_pass\u001b[1;34m(g, end_node)\u001b[0m\n\u001b[0;32m     19\u001b[0m     \u001b[1;32mfor\u001b[0m \u001b[0mnode\u001b[0m \u001b[1;32min\u001b[0m \u001b[0mtoposort\u001b[0m\u001b[1;33m(\u001b[0m\u001b[0mend_node\u001b[0m\u001b[1;33m)\u001b[0m\u001b[1;33m:\u001b[0m\u001b[1;33m\u001b[0m\u001b[1;33m\u001b[0m\u001b[0m\n\u001b[0;32m     20\u001b[0m         \u001b[0moutgrad\u001b[0m \u001b[1;33m=\u001b[0m \u001b[0moutgrads\u001b[0m\u001b[1;33m.\u001b[0m\u001b[0mpop\u001b[0m\u001b[1;33m(\u001b[0m\u001b[0mnode\u001b[0m\u001b[1;33m)\u001b[0m\u001b[1;33m\u001b[0m\u001b[1;33m\u001b[0m\u001b[0m\n\u001b[1;32m---> 21\u001b[1;33m         \u001b[0mingrads\u001b[0m \u001b[1;33m=\u001b[0m \u001b[0mnode\u001b[0m\u001b[1;33m.\u001b[0m\u001b[0mvjp\u001b[0m\u001b[1;33m(\u001b[0m\u001b[0moutgrad\u001b[0m\u001b[1;33m[\u001b[0m\u001b[1;36m0\u001b[0m\u001b[1;33m]\u001b[0m\u001b[1;33m)\u001b[0m\u001b[1;33m\u001b[0m\u001b[1;33m\u001b[0m\u001b[0m\n\u001b[0m\u001b[0;32m     22\u001b[0m         \u001b[1;32mfor\u001b[0m \u001b[0mparent\u001b[0m\u001b[1;33m,\u001b[0m \u001b[0mingrad\u001b[0m \u001b[1;32min\u001b[0m \u001b[0mzip\u001b[0m\u001b[1;33m(\u001b[0m\u001b[0mnode\u001b[0m\u001b[1;33m.\u001b[0m\u001b[0mparents\u001b[0m\u001b[1;33m,\u001b[0m \u001b[0mingrads\u001b[0m\u001b[1;33m)\u001b[0m\u001b[1;33m:\u001b[0m\u001b[1;33m\u001b[0m\u001b[1;33m\u001b[0m\u001b[0m\n\u001b[0;32m     23\u001b[0m             \u001b[0moutgrads\u001b[0m\u001b[1;33m[\u001b[0m\u001b[0mparent\u001b[0m\u001b[1;33m]\u001b[0m \u001b[1;33m=\u001b[0m \u001b[0madd_outgrads\u001b[0m\u001b[1;33m(\u001b[0m\u001b[0moutgrads\u001b[0m\u001b[1;33m.\u001b[0m\u001b[0mget\u001b[0m\u001b[1;33m(\u001b[0m\u001b[0mparent\u001b[0m\u001b[1;33m)\u001b[0m\u001b[1;33m,\u001b[0m \u001b[0mingrad\u001b[0m\u001b[1;33m)\u001b[0m\u001b[1;33m\u001b[0m\u001b[1;33m\u001b[0m\u001b[0m\n",
      "\u001b[1;32m~\\anaconda3\\lib\\site-packages\\autograd\\core.py\u001b[0m in \u001b[0;36m<lambda>\u001b[1;34m(g)\u001b[0m\n\u001b[0;32m     65\u001b[0m                     \"VJP of {} wrt argnum 0 not defined\".format(fun.__name__))\n\u001b[0;32m     66\u001b[0m             \u001b[0mvjp\u001b[0m \u001b[1;33m=\u001b[0m \u001b[0mvjpfun\u001b[0m\u001b[1;33m(\u001b[0m\u001b[0mans\u001b[0m\u001b[1;33m,\u001b[0m \u001b[1;33m*\u001b[0m\u001b[0margs\u001b[0m\u001b[1;33m,\u001b[0m \u001b[1;33m**\u001b[0m\u001b[0mkwargs\u001b[0m\u001b[1;33m)\u001b[0m\u001b[1;33m\u001b[0m\u001b[1;33m\u001b[0m\u001b[0m\n\u001b[1;32m---> 67\u001b[1;33m             \u001b[1;32mreturn\u001b[0m \u001b[1;32mlambda\u001b[0m \u001b[0mg\u001b[0m\u001b[1;33m:\u001b[0m \u001b[1;33m(\u001b[0m\u001b[0mvjp\u001b[0m\u001b[1;33m(\u001b[0m\u001b[0mg\u001b[0m\u001b[1;33m)\u001b[0m\u001b[1;33m,\u001b[0m\u001b[1;33m)\u001b[0m\u001b[1;33m\u001b[0m\u001b[1;33m\u001b[0m\u001b[0m\n\u001b[0m\u001b[0;32m     68\u001b[0m         \u001b[1;32melif\u001b[0m \u001b[0mL\u001b[0m \u001b[1;33m==\u001b[0m \u001b[1;36m2\u001b[0m\u001b[1;33m:\u001b[0m\u001b[1;33m\u001b[0m\u001b[1;33m\u001b[0m\u001b[0m\n\u001b[0;32m     69\u001b[0m             \u001b[0margnum_0\u001b[0m\u001b[1;33m,\u001b[0m \u001b[0margnum_1\u001b[0m \u001b[1;33m=\u001b[0m \u001b[0margnums\u001b[0m\u001b[1;33m\u001b[0m\u001b[1;33m\u001b[0m\u001b[0m\n",
      "\u001b[1;32m~\\anaconda3\\lib\\site-packages\\pennylane\\interfaces\\autograd.py\u001b[0m in \u001b[0;36mgradient_product\u001b[1;34m(dy)\u001b[0m\n\u001b[0;32m    272\u001b[0m             \u001b[0mautograd\u001b[0m\u001b[1;33m.\u001b[0m\u001b[0mextend\u001b[0m\u001b[1;33m.\u001b[0m\u001b[0mdefvjp\u001b[0m\u001b[1;33m(\u001b[0m\u001b[0mjacobian\u001b[0m\u001b[1;33m,\u001b[0m \u001b[0mvhp\u001b[0m\u001b[1;33m,\u001b[0m \u001b[0margnums\u001b[0m\u001b[1;33m=\u001b[0m\u001b[1;33m[\u001b[0m\u001b[1;36m0\u001b[0m\u001b[1;33m]\u001b[0m\u001b[1;33m)\u001b[0m\u001b[1;33m\u001b[0m\u001b[1;33m\u001b[0m\u001b[0m\n\u001b[0;32m    273\u001b[0m \u001b[1;33m\u001b[0m\u001b[0m\n\u001b[1;32m--> 274\u001b[1;33m             \u001b[0mvjp\u001b[0m \u001b[1;33m=\u001b[0m \u001b[0mdy\u001b[0m \u001b[1;33m@\u001b[0m \u001b[0mjacobian\u001b[0m\u001b[1;33m(\u001b[0m\u001b[0mparams\u001b[0m\u001b[1;33m)\u001b[0m\u001b[1;33m\u001b[0m\u001b[1;33m\u001b[0m\u001b[0m\n\u001b[0m\u001b[0;32m    275\u001b[0m             \u001b[1;32mreturn\u001b[0m \u001b[0mvjp\u001b[0m\u001b[1;33m\u001b[0m\u001b[1;33m\u001b[0m\u001b[0m\n\u001b[0;32m    276\u001b[0m \u001b[1;33m\u001b[0m\u001b[0m\n",
      "\u001b[1;32m~\\anaconda3\\lib\\site-packages\\autograd\\tracer.py\u001b[0m in \u001b[0;36mf_wrapped\u001b[1;34m(*args, **kwargs)\u001b[0m\n\u001b[0;32m     46\u001b[0m             \u001b[1;32mreturn\u001b[0m \u001b[0mnew_box\u001b[0m\u001b[1;33m(\u001b[0m\u001b[0mans\u001b[0m\u001b[1;33m,\u001b[0m \u001b[0mtrace\u001b[0m\u001b[1;33m,\u001b[0m \u001b[0mnode\u001b[0m\u001b[1;33m)\u001b[0m\u001b[1;33m\u001b[0m\u001b[1;33m\u001b[0m\u001b[0m\n\u001b[0;32m     47\u001b[0m         \u001b[1;32melse\u001b[0m\u001b[1;33m:\u001b[0m\u001b[1;33m\u001b[0m\u001b[1;33m\u001b[0m\u001b[0m\n\u001b[1;32m---> 48\u001b[1;33m             \u001b[1;32mreturn\u001b[0m \u001b[0mf_raw\u001b[0m\u001b[1;33m(\u001b[0m\u001b[1;33m*\u001b[0m\u001b[0margs\u001b[0m\u001b[1;33m,\u001b[0m \u001b[1;33m**\u001b[0m\u001b[0mkwargs\u001b[0m\u001b[1;33m)\u001b[0m\u001b[1;33m\u001b[0m\u001b[1;33m\u001b[0m\u001b[0m\n\u001b[0m\u001b[0;32m     49\u001b[0m     \u001b[0mf_wrapped\u001b[0m\u001b[1;33m.\u001b[0m\u001b[0mfun\u001b[0m \u001b[1;33m=\u001b[0m \u001b[0mf_raw\u001b[0m\u001b[1;33m\u001b[0m\u001b[1;33m\u001b[0m\u001b[0m\n\u001b[0;32m     50\u001b[0m     \u001b[0mf_wrapped\u001b[0m\u001b[1;33m.\u001b[0m\u001b[0m_is_autograd_primitive\u001b[0m \u001b[1;33m=\u001b[0m \u001b[1;32mTrue\u001b[0m\u001b[1;33m\u001b[0m\u001b[1;33m\u001b[0m\u001b[0m\n",
      "\u001b[1;32m~\\anaconda3\\lib\\site-packages\\pennylane\\interfaces\\autograd.py\u001b[0m in \u001b[0;36mjacobian\u001b[1;34m(p)\u001b[0m\n\u001b[0;32m    250\u001b[0m             \u001b[1;32mdef\u001b[0m \u001b[0mjacobian\u001b[0m\u001b[1;33m(\u001b[0m\u001b[0mp\u001b[0m\u001b[1;33m)\u001b[0m\u001b[1;33m:\u001b[0m\u001b[1;33m\u001b[0m\u001b[1;33m\u001b[0m\u001b[0m\n\u001b[0;32m    251\u001b[0m                 \u001b[1;34m\"\"\"Returns the Jacobian for parameters p\"\"\"\u001b[0m\u001b[1;33m\u001b[0m\u001b[1;33m\u001b[0m\u001b[0m\n\u001b[1;32m--> 252\u001b[1;33m                 \u001b[1;32mreturn\u001b[0m \u001b[0m_evaluate_grad_matrix\u001b[0m\u001b[1;33m(\u001b[0m\u001b[0mp\u001b[0m\u001b[1;33m,\u001b[0m \u001b[1;34m\"jacobian\"\u001b[0m\u001b[1;33m)\u001b[0m\u001b[1;33m\u001b[0m\u001b[1;33m\u001b[0m\u001b[0m\n\u001b[0m\u001b[0;32m    253\u001b[0m \u001b[1;33m\u001b[0m\u001b[0m\n\u001b[0;32m    254\u001b[0m             \u001b[1;32mdef\u001b[0m \u001b[0mvhp\u001b[0m\u001b[1;33m(\u001b[0m\u001b[0mans\u001b[0m\u001b[1;33m,\u001b[0m \u001b[0mp\u001b[0m\u001b[1;33m)\u001b[0m\u001b[1;33m:\u001b[0m\u001b[1;33m\u001b[0m\u001b[1;33m\u001b[0m\u001b[0m\n",
      "\u001b[1;32m~\\anaconda3\\lib\\site-packages\\pennylane\\interfaces\\autograd.py\u001b[0m in \u001b[0;36m_evaluate_grad_matrix\u001b[1;34m(p, grad_matrix_fn)\u001b[0m\n\u001b[0;32m    233\u001b[0m \u001b[1;33m\u001b[0m\u001b[0m\n\u001b[0;32m    234\u001b[0m             \u001b[0mself\u001b[0m\u001b[1;33m.\u001b[0m\u001b[0mset_parameters\u001b[0m\u001b[1;33m(\u001b[0m\u001b[0mself\u001b[0m\u001b[1;33m.\u001b[0m\u001b[0m_all_params_unwrapped\u001b[0m\u001b[1;33m,\u001b[0m \u001b[0mtrainable_only\u001b[0m\u001b[1;33m=\u001b[0m\u001b[1;32mFalse\u001b[0m\u001b[1;33m)\u001b[0m\u001b[1;33m\u001b[0m\u001b[1;33m\u001b[0m\u001b[0m\n\u001b[1;32m--> 235\u001b[1;33m             \u001b[0mgrad_matrix\u001b[0m \u001b[1;33m=\u001b[0m \u001b[0mgetattr\u001b[0m\u001b[1;33m(\u001b[0m\u001b[0mself\u001b[0m\u001b[1;33m,\u001b[0m \u001b[0mgrad_matrix_fn\u001b[0m\u001b[1;33m)\u001b[0m\u001b[1;33m(\u001b[0m\u001b[0mdevice\u001b[0m\u001b[1;33m,\u001b[0m \u001b[0mparams\u001b[0m\u001b[1;33m=\u001b[0m\u001b[0mp\u001b[0m\u001b[1;33m,\u001b[0m \u001b[1;33m**\u001b[0m\u001b[0mself\u001b[0m\u001b[1;33m.\u001b[0m\u001b[0mjacobian_options\u001b[0m\u001b[1;33m)\u001b[0m\u001b[1;33m\u001b[0m\u001b[1;33m\u001b[0m\u001b[0m\n\u001b[0m\u001b[0;32m    236\u001b[0m             \u001b[0mself\u001b[0m\u001b[1;33m.\u001b[0m\u001b[0mset_parameters\u001b[0m\u001b[1;33m(\u001b[0m\u001b[0mself\u001b[0m\u001b[1;33m.\u001b[0m\u001b[0m_all_parameter_values\u001b[0m\u001b[1;33m,\u001b[0m \u001b[0mtrainable_only\u001b[0m\u001b[1;33m=\u001b[0m\u001b[1;32mFalse\u001b[0m\u001b[1;33m)\u001b[0m\u001b[1;33m\u001b[0m\u001b[1;33m\u001b[0m\u001b[0m\n\u001b[0;32m    237\u001b[0m \u001b[1;33m\u001b[0m\u001b[0m\n",
      "\u001b[1;32m~\\anaconda3\\lib\\site-packages\\pennylane\\tape\\qubit_param_shift.py\u001b[0m in \u001b[0;36mjacobian\u001b[1;34m(self, device, params, **options)\u001b[0m\n\u001b[0;32m    129\u001b[0m         \u001b[0mself\u001b[0m\u001b[1;33m.\u001b[0m\u001b[0m_append_evA_tape\u001b[0m \u001b[1;33m=\u001b[0m \u001b[1;32mTrue\u001b[0m\u001b[1;33m\u001b[0m\u001b[1;33m\u001b[0m\u001b[0m\n\u001b[0;32m    130\u001b[0m         \u001b[0mself\u001b[0m\u001b[1;33m.\u001b[0m\u001b[0m_evA_result\u001b[0m \u001b[1;33m=\u001b[0m \u001b[1;32mNone\u001b[0m\u001b[1;33m\u001b[0m\u001b[1;33m\u001b[0m\u001b[0m\n\u001b[1;32m--> 131\u001b[1;33m         \u001b[1;32mreturn\u001b[0m \u001b[0msuper\u001b[0m\u001b[1;33m(\u001b[0m\u001b[1;33m)\u001b[0m\u001b[1;33m.\u001b[0m\u001b[0mjacobian\u001b[0m\u001b[1;33m(\u001b[0m\u001b[0mdevice\u001b[0m\u001b[1;33m,\u001b[0m \u001b[0mparams\u001b[0m\u001b[1;33m,\u001b[0m \u001b[1;33m**\u001b[0m\u001b[0moptions\u001b[0m\u001b[1;33m)\u001b[0m\u001b[1;33m\u001b[0m\u001b[1;33m\u001b[0m\u001b[0m\n\u001b[0m\u001b[0;32m    132\u001b[0m \u001b[1;33m\u001b[0m\u001b[0m\n\u001b[0;32m    133\u001b[0m     \u001b[1;32mdef\u001b[0m \u001b[0mparameter_shift\u001b[0m\u001b[1;33m(\u001b[0m\u001b[0mself\u001b[0m\u001b[1;33m,\u001b[0m \u001b[0midx\u001b[0m\u001b[1;33m,\u001b[0m \u001b[0mparams\u001b[0m\u001b[1;33m,\u001b[0m \u001b[1;33m**\u001b[0m\u001b[0moptions\u001b[0m\u001b[1;33m)\u001b[0m\u001b[1;33m:\u001b[0m\u001b[1;33m\u001b[0m\u001b[1;33m\u001b[0m\u001b[0m\n",
      "\u001b[1;32m~\\anaconda3\\lib\\site-packages\\pennylane\\tape\\jacobian_tape.py\u001b[0m in \u001b[0;36mjacobian\u001b[1;34m(self, device, params, **options)\u001b[0m\n\u001b[0;32m    633\u001b[0m \u001b[1;33m\u001b[0m\u001b[0m\n\u001b[0;32m    634\u001b[0m         \u001b[1;31m# execute all tapes at once\u001b[0m\u001b[1;33m\u001b[0m\u001b[1;33m\u001b[0m\u001b[1;33m\u001b[0m\u001b[0m\n\u001b[1;32m--> 635\u001b[1;33m         \u001b[0mresults\u001b[0m \u001b[1;33m=\u001b[0m \u001b[0mdevice\u001b[0m\u001b[1;33m.\u001b[0m\u001b[0mbatch_execute\u001b[0m\u001b[1;33m(\u001b[0m\u001b[0mall_tapes\u001b[0m\u001b[1;33m)\u001b[0m\u001b[1;33m\u001b[0m\u001b[1;33m\u001b[0m\u001b[0m\n\u001b[0m\u001b[0;32m    636\u001b[0m \u001b[1;33m\u001b[0m\u001b[0m\n\u001b[0;32m    637\u001b[0m         \u001b[1;31m# post-process the results with the appropriate function to fill jacobian columns with gradients\u001b[0m\u001b[1;33m\u001b[0m\u001b[1;33m\u001b[0m\u001b[1;33m\u001b[0m\u001b[0m\n",
      "\u001b[1;32m~\\anaconda3\\lib\\site-packages\\pennylane\\_qubit_device.py\u001b[0m in \u001b[0;36mbatch_execute\u001b[1;34m(self, circuits)\u001b[0m\n\u001b[0;32m    276\u001b[0m             \u001b[0mself\u001b[0m\u001b[1;33m.\u001b[0m\u001b[0mreset\u001b[0m\u001b[1;33m(\u001b[0m\u001b[1;33m)\u001b[0m\u001b[1;33m\u001b[0m\u001b[1;33m\u001b[0m\u001b[0m\n\u001b[0;32m    277\u001b[0m \u001b[1;33m\u001b[0m\u001b[0m\n\u001b[1;32m--> 278\u001b[1;33m             \u001b[0mres\u001b[0m \u001b[1;33m=\u001b[0m \u001b[0mself\u001b[0m\u001b[1;33m.\u001b[0m\u001b[0mexecute\u001b[0m\u001b[1;33m(\u001b[0m\u001b[0mcircuit\u001b[0m\u001b[1;33m)\u001b[0m\u001b[1;33m\u001b[0m\u001b[1;33m\u001b[0m\u001b[0m\n\u001b[0m\u001b[0;32m    279\u001b[0m             \u001b[0mresults\u001b[0m\u001b[1;33m.\u001b[0m\u001b[0mappend\u001b[0m\u001b[1;33m(\u001b[0m\u001b[0mres\u001b[0m\u001b[1;33m)\u001b[0m\u001b[1;33m\u001b[0m\u001b[1;33m\u001b[0m\u001b[0m\n\u001b[0;32m    280\u001b[0m \u001b[1;33m\u001b[0m\u001b[0m\n",
      "\u001b[1;32m~\\anaconda3\\lib\\site-packages\\pennylane\\_qubit_device.py\u001b[0m in \u001b[0;36mexecute\u001b[1;34m(self, circuit, **kwargs)\u001b[0m\n\u001b[0;32m    196\u001b[0m         \u001b[1;31m# generate computational basis samples\u001b[0m\u001b[1;33m\u001b[0m\u001b[1;33m\u001b[0m\u001b[1;33m\u001b[0m\u001b[0m\n\u001b[0;32m    197\u001b[0m         \u001b[1;32mif\u001b[0m \u001b[0mself\u001b[0m\u001b[1;33m.\u001b[0m\u001b[0mshots\u001b[0m \u001b[1;32mis\u001b[0m \u001b[1;32mnot\u001b[0m \u001b[1;32mNone\u001b[0m \u001b[1;32mor\u001b[0m \u001b[0mcircuit\u001b[0m\u001b[1;33m.\u001b[0m\u001b[0mis_sampled\u001b[0m\u001b[1;33m:\u001b[0m\u001b[1;33m\u001b[0m\u001b[1;33m\u001b[0m\u001b[0m\n\u001b[1;32m--> 198\u001b[1;33m             \u001b[0mself\u001b[0m\u001b[1;33m.\u001b[0m\u001b[0m_samples\u001b[0m \u001b[1;33m=\u001b[0m \u001b[0mself\u001b[0m\u001b[1;33m.\u001b[0m\u001b[0mgenerate_samples\u001b[0m\u001b[1;33m(\u001b[0m\u001b[1;33m)\u001b[0m\u001b[1;33m\u001b[0m\u001b[1;33m\u001b[0m\u001b[0m\n\u001b[0m\u001b[0;32m    199\u001b[0m \u001b[1;33m\u001b[0m\u001b[0m\n\u001b[0;32m    200\u001b[0m         \u001b[0mmultiple_sampled_jobs\u001b[0m \u001b[1;33m=\u001b[0m \u001b[0mcircuit\u001b[0m\u001b[1;33m.\u001b[0m\u001b[0mis_sampled\u001b[0m \u001b[1;32mand\u001b[0m \u001b[0mself\u001b[0m\u001b[1;33m.\u001b[0m\u001b[0m_has_partitioned_shots\u001b[0m\u001b[1;33m(\u001b[0m\u001b[1;33m)\u001b[0m\u001b[1;33m\u001b[0m\u001b[1;33m\u001b[0m\u001b[0m\n",
      "\u001b[1;32m~\\AppData\\Roaming\\Python\\Python38\\site-packages\\pennylane_qiskit\\qiskit_device.py\u001b[0m in \u001b[0;36mgenerate_samples\u001b[1;34m(self)\u001b[0m\n\u001b[0;32m    332\u001b[0m         \u001b[1;32mif\u001b[0m \u001b[0mself\u001b[0m\u001b[1;33m.\u001b[0m\u001b[0mbackend_name\u001b[0m \u001b[1;32min\u001b[0m \u001b[0mself\u001b[0m\u001b[1;33m.\u001b[0m\u001b[0m_state_backends\u001b[0m\u001b[1;33m:\u001b[0m\u001b[1;33m\u001b[0m\u001b[1;33m\u001b[0m\u001b[0m\n\u001b[0;32m    333\u001b[0m             \u001b[1;31m# software simulator: need to sample from probabilities\u001b[0m\u001b[1;33m\u001b[0m\u001b[1;33m\u001b[0m\u001b[1;33m\u001b[0m\u001b[0m\n\u001b[1;32m--> 334\u001b[1;33m             \u001b[1;32mreturn\u001b[0m \u001b[0msuper\u001b[0m\u001b[1;33m(\u001b[0m\u001b[1;33m)\u001b[0m\u001b[1;33m.\u001b[0m\u001b[0mgenerate_samples\u001b[0m\u001b[1;33m(\u001b[0m\u001b[1;33m)\u001b[0m\u001b[1;33m\u001b[0m\u001b[1;33m\u001b[0m\u001b[0m\n\u001b[0m\u001b[0;32m    335\u001b[0m \u001b[1;33m\u001b[0m\u001b[0m\n\u001b[0;32m    336\u001b[0m         \u001b[1;31m# hardware or hardware simulator\u001b[0m\u001b[1;33m\u001b[0m\u001b[1;33m\u001b[0m\u001b[1;33m\u001b[0m\u001b[0m\n",
      "\u001b[1;32m~\\anaconda3\\lib\\site-packages\\pennylane\\_qubit_device.py\u001b[0m in \u001b[0;36mgenerate_samples\u001b[1;34m(self)\u001b[0m\n\u001b[0;32m    473\u001b[0m         \u001b[0mrotated_prob\u001b[0m \u001b[1;33m=\u001b[0m \u001b[0mself\u001b[0m\u001b[1;33m.\u001b[0m\u001b[0manalytic_probability\u001b[0m\u001b[1;33m(\u001b[0m\u001b[1;33m)\u001b[0m\u001b[1;33m\u001b[0m\u001b[1;33m\u001b[0m\u001b[0m\n\u001b[0;32m    474\u001b[0m \u001b[1;33m\u001b[0m\u001b[0m\n\u001b[1;32m--> 475\u001b[1;33m         \u001b[0msamples\u001b[0m \u001b[1;33m=\u001b[0m \u001b[0mself\u001b[0m\u001b[1;33m.\u001b[0m\u001b[0msample_basis_states\u001b[0m\u001b[1;33m(\u001b[0m\u001b[0mnumber_of_states\u001b[0m\u001b[1;33m,\u001b[0m \u001b[0mrotated_prob\u001b[0m\u001b[1;33m)\u001b[0m\u001b[1;33m\u001b[0m\u001b[1;33m\u001b[0m\u001b[0m\n\u001b[0m\u001b[0;32m    476\u001b[0m         \u001b[1;32mreturn\u001b[0m \u001b[0mQubitDevice\u001b[0m\u001b[1;33m.\u001b[0m\u001b[0mstates_to_binary\u001b[0m\u001b[1;33m(\u001b[0m\u001b[0msamples\u001b[0m\u001b[1;33m,\u001b[0m \u001b[0mself\u001b[0m\u001b[1;33m.\u001b[0m\u001b[0mnum_wires\u001b[0m\u001b[1;33m)\u001b[0m\u001b[1;33m\u001b[0m\u001b[1;33m\u001b[0m\u001b[0m\n\u001b[0;32m    477\u001b[0m \u001b[1;33m\u001b[0m\u001b[0m\n",
      "\u001b[1;32m~\\anaconda3\\lib\\site-packages\\pennylane\\_qubit_device.py\u001b[0m in \u001b[0;36msample_basis_states\u001b[1;34m(self, number_of_states, state_probability)\u001b[0m\n\u001b[0;32m    499\u001b[0m \u001b[1;33m\u001b[0m\u001b[0m\n\u001b[0;32m    500\u001b[0m         \u001b[0mbasis_states\u001b[0m \u001b[1;33m=\u001b[0m \u001b[0mnp\u001b[0m\u001b[1;33m.\u001b[0m\u001b[0marange\u001b[0m\u001b[1;33m(\u001b[0m\u001b[0mnumber_of_states\u001b[0m\u001b[1;33m)\u001b[0m\u001b[1;33m\u001b[0m\u001b[1;33m\u001b[0m\u001b[0m\n\u001b[1;32m--> 501\u001b[1;33m         \u001b[1;32mreturn\u001b[0m \u001b[0mnp\u001b[0m\u001b[1;33m.\u001b[0m\u001b[0mrandom\u001b[0m\u001b[1;33m.\u001b[0m\u001b[0mchoice\u001b[0m\u001b[1;33m(\u001b[0m\u001b[0mbasis_states\u001b[0m\u001b[1;33m,\u001b[0m \u001b[0mshots\u001b[0m\u001b[1;33m,\u001b[0m \u001b[0mp\u001b[0m\u001b[1;33m=\u001b[0m\u001b[0mstate_probability\u001b[0m\u001b[1;33m)\u001b[0m\u001b[1;33m\u001b[0m\u001b[1;33m\u001b[0m\u001b[0m\n\u001b[0m\u001b[0;32m    502\u001b[0m \u001b[1;33m\u001b[0m\u001b[0m\n\u001b[0;32m    503\u001b[0m     \u001b[1;33m@\u001b[0m\u001b[0mstaticmethod\u001b[0m\u001b[1;33m\u001b[0m\u001b[1;33m\u001b[0m\u001b[0m\n",
      "\u001b[1;31mKeyboardInterrupt\u001b[0m: "
     ]
    }
   ],
   "source": [
    "Disc_cost = [] # P(R|R)-P(R|G)\n",
    "Gen_cost = [] # P(R|G)\n",
    "norm = []\n",
    "\n",
    "costD = lambda: disc_cost(disc_weights)\n",
    "costG = lambda: gen_cost(gen_weights)\n",
    "\n",
    "#print(\"gen_weights\", gen_weights)\n",
    "#print(\"disc_weights\", disc_weights)\n",
    "\n",
    "for turn in range(300):\n",
    "    print(\"Begin \"+ str(turn) + \" discriminator optimization\")\n",
    "    disc_weights=np.array(list(disc_weights), requires_grad=True)\n",
    "    gen_weights=np.array(list(gen_weights), requires_grad=False)\n",
    "    for step in range(5): #The actual ratio should be 20 to 1, according to what we discussed\n",
    "        #opt1.step(disc_cost, disc_weights)\n",
    "        print(\"gen_weights\", gen_weights)\n",
    "        print(\"disc_weights\", disc_weights)\n",
    "        print(\"Before \"+str(step) + \" disc gradient computation of \"+str(turn)+ \" round of optimization\")\n",
    "        #grad_fn_disc=real_disc_circuit_gradient(disc_weights)-gen_disc_circuit_gradient_disc(disc_weights)\n",
    "        grad_gen_circuit_disc=qml.grad(gen_disc_circuit, argnum=1)\n",
    "        grad_real_disc_circuit=qml.grad(real_disc_circuit, argnum=1) \n",
    "        print('grad_gen_circuit_disc', grad_gen_circuit_disc(gen_weights, disc_weights))\n",
    "        print('grad_real_disc_circuit', grad_real_disc_circuit(real_params, disc_weights))\n",
    "        grad_fn_disc=grad_gen_circuit_disc(gen_weights, disc_weights)-grad_real_disc_circuit(real_params, disc_weights)\n",
    "        #print(\"grad_fn_disc\", grad_fn_disc)\n",
    "        print(\"After\"+str(step) + \" disc gradient computation of \"+str(turn)+ \" round of optimization\")\n",
    "        disc_weights=np.array(opt1.apply_grad(grad_fn_disc, disc_weights), requires_grad=True)\n",
    "        #disc_weights=np.array(opt1.step(disc_cost, disc_weights), requires_grad=True)\n",
    "        #print(\"disc_weights\", disc_weights)\n",
    "        print(\"After\"+str(step) + \" disc opt update of \"+str(turn)+ \" round of optimization\")\n",
    "\n",
    "        if step == 4:\n",
    "            costD_val = costD().numpy()\n",
    "            print(\"Step {}: cost = {}\".format(step, costD_val))\n",
    "            Disc_cost += [-costD_val] # P(R|R)-P(R|G)\n",
    "    print(\"End of \" + str(turn)+\" discriminator optimization\")    \n",
    "    print(\"end of \"+ str(turn)+ \" optimization \")\n",
    "            #opt.minimize(costG, gen_weights)\n",
    "    disc_weights=np.array(list(disc_weights), requires_grad=False)\n",
    "    gen_weights=np.array(list(gen_weights), requires_grad=True)\n",
    "    print(\"Begin of \"+str(turn)+\" generator optimization\")\n",
    "    #opt2.step(gen_cost, gen_weights)\n",
    "    print(\"gen_weights\", gen_weights)\n",
    "    print(\"disc_weights\", disc_weights)\n",
    "    #disc_weights=np.array(list(disc_weights), requires_grad=False)\n",
    "    #gen_weights=np.array(list(gen_weights), requires_grad=True)\n",
    "\n",
    "    print(\"Before gen gradient computation\")\n",
    "    #grad_fn_gen=-gen_disc_circuit_gradient_gen(gen_weights)\n",
    "    grad_fn_gen=-qml.grad(gen_disc_circuit, argnum=0)(gen_weights, disc_weights)\n",
    "    print(\"grad_fn_gen\", grad_fn_gen)\n",
    "    print(\"After gen gradient computation\")\n",
    "    gen_weights=np.array(opt2.apply_grad(grad_fn_gen, gen_weights), requires_grad=True)\n",
    "    #gen_weights=np.array(opt2.step(gen_cost, gen_weights), requires_grad=True)\n",
    "    #print(\"gen_weights\", gen_weights)\n",
    "    #print(\"disc_weights\", disc_weights)\n",
    "    print(\"After gen opt update \")\n",
    "    costG_val = costG().numpy()\n",
    "    #print(\"Step {}: cost = {}\".format(step, costG_val))\n",
    "    Gen_cost += [-costG_val] # P(R|G)\n",
    "    \n",
    " \n",
    "    norm_step = Hilbert_Schmidt(real_params, gen_weights)\n",
    "    norm += [norm_step]\n",
    "    \n",
    "    print(\"P(R|R)-P(R|G): \", -costD_val)\n",
    "    print(\"P(R|G): \", -costG_val)\n",
    "    print(\"Hilbert Schmidt norm: \",norm_step)\n",
    "    print(\"------------------------------\")"
   ]
  },
  {
   "cell_type": "code",
   "execution_count": 12,
   "metadata": {},
   "outputs": [],
   "source": [
    "Gen_cost = np.array(Gen_cost)\n",
    "Disc_cost = np.array(Disc_cost)\n",
    "norm = np.array(norm)"
   ]
  },
  {
   "cell_type": "code",
   "execution_count": 13,
   "metadata": {},
   "outputs": [
    {
     "data": {
      "image/png": "[encoded data removed]",
      "text/plain": [
       "<Figure size 432x288 with 1 Axes>"
      ]
     },
     "metadata": {
      "needs_background": "light"
     },
     "output_type": "display_data"
    }
   ],
   "source": [
    "plt.plot(norm, label='Hilbert Schmidt norm')\n",
    "plt.plot(Gen_cost, label='P(R|G)')\n",
    "plt.plot(Disc_cost, label='P(R|R)-P(R|G)')\n",
    "plt.xlabel('Turns (5D+1G)') \n",
    "plt.title(\"1-qubit unitary metrics\")\n",
    "plt.legend()\n",
    "plt.savefig('1qubitunitary.png', format='png')"
   ]
  },
  {
   "cell_type": "code",
   "execution_count": 14,
   "metadata": {},
   "outputs": [
    {
     "data": {
      "text/plain": [
       "tensor(0.56640625, requires_grad=True)"
      ]
     },
     "execution_count": 14,
     "metadata": {},
     "output_type": "execute_result"
    }
   ],
   "source": [
    "real_disc_circuit(real_params, disc_weights)\n",
    "#gen_disc_circuit(gen_weights, disc_weights)"
   ]
  },
  {
   "cell_type": "code",
   "execution_count": null,
   "metadata": {},
   "outputs": [],
   "source": []
  }
 ],
 "metadata": {
  "interpreter": {
   "hash": "c21febf07bb926d756abc73e0ffe94adc8f3b68902c70b9492849c2e69b87fda"
  },
  "kernelspec": {
   "display_name": "Python 3.8.5 64-bit ('base': conda)",
   "name": "python3"
  },
  "language_info": {
   "codemirror_mode": {
    "name": "ipython",
    "version": 3
   },
   "file_extension": ".py",
   "mimetype": "text/x-python",
   "name": "python",
   "nbconvert_exporter": "python",
   "pygments_lexer": "ipython3",
   "version": "3.8.5"
  }
 },
 "nbformat": 4,
 "nbformat_minor": 4
}
